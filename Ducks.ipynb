{
  "nbformat": 4,
  "nbformat_minor": 0,
  "metadata": {
    "colab": {
      "provenance": [],
      "collapsed_sections": [
        "lNycIudes4Hk",
        "ij9TIh5BZsIV",
        "7o3QQxgjhUq1"
      ],
      "toc_visible": true
    },
    "kernelspec": {
      "name": "python3",
      "display_name": "Python 3"
    },
    "language_info": {
      "name": "python"
    },
    "accelerator": "GPU",
    "gpuClass": "standard"
  },
  "cells": [
    {
      "cell_type": "code",
      "source": [
        "#@title Classificador de imagens utilizando *Convolutional Neural Networks*\n",
        "%%html\n",
        "\n",
        "\n",
        "<p>O seguinte código tem por intuito treinar 3 modelos diferentes de CNNs para \n",
        "  classficar 20 classes diferentes de patos, dessa maneira encontrando o melhor\n",
        "   para aplicação no Telegram.</p>\n",
        "<br/>\n",
        "<p>As classes de patos possíveis são as seguintes:</p>\n",
        "\n",
        "<div style=\"display: flex; flex-direction:row; width:800px\">\n",
        "  <figure>\n",
        "    <img src=\"https://images.pexels.com/photos/6298570/pexels-photo-6298570.jpeg?auto=compress&cs=tinysrgb&w=1260&h=750&dpr=2\" width=250px/>\n",
        "    <figcaption style=\"text-align:center\"><i>american-black-duck</i></figcaption>\n",
        "  </figure>\n",
        "\n",
        "  <figure>\n",
        "    <img src=\"https://external-content.duckduckgo.com/iu/?u=https%3A%2F%2Fi.pinimg.com%2Foriginals%2F4c%2Ffe%2F1a%2F4cfe1ae024aa52a2d89c379880905dcc.jpg&f=1&nofb=1&ipt=05dd7061e66d69c26cc27228a75d3c490d630e606e2de18945d96cbbc0b88a12&ipo=images\" width=250px/>\n",
        "    <figcaption style=\"text-align:center\"><i>brazillan-teal-duck</i></figcaption>\n",
        "  </figure>\n",
        "\n",
        "  <figure>\n",
        "    <img src=\"https://external-content.duckduckgo.com/iu/?u=https%3A%2F%2Ftse2.mm.bing.net%2Fth%3Fid%3DOIP.xyR40XbVX2RUXXi6btzG8AHaFI%26pid%3DApi&f=1&ipt=830a42ca8f2723db75211f767042bcdd946db6f743bd5d8100d5a6bf07c8327a&ipo=images\" width=250px/>\n",
        "    <figcaption style=\"text-align:center\"><i>bufflehead-duck</i></figcaption>\n",
        "  </figure>\n",
        "\n",
        "  <figure>\n",
        "    <img src=\"https://external-content.duckduckgo.com/iu/?u=https%3A%2F%2Ftse2.mm.bing.net%2Fth%3Fid%3DOIP.6eTXDggAKXSsd97hOB31BQHaET%26pid%3DApi&f=1&ipt=d4b94a7c7063fb4621edfe2ea1a6785ed7d5436160d19fc131d8d89f0f332241&ipo=images\" width=250px/>\n",
        "    <figcaption style=\"text-align:center\"><i>canvasback-duck</i></figcaption>\n",
        "  </figure>\n",
        "</div>\n",
        " \n",
        "<div style=\"display: flex; flex-direction:row; width:800px\"> \n",
        "  <figure>\n",
        "    <img src=\"https://external-content.duckduckgo.com/iu/?u=https%3A%2F%2Fwww.zsl.org%2Fsites%2Fdefault%2Ffiles%2Fimage%2F2016-07%2FComb-duck.jpg&f=1&nofb=1&ipt=4049d61831a77ab47ae80f4e32acfb534961dcfb05c8fb851e932d77afba990a&ipo=images\" width=250px/>\n",
        "    <figcaption style=\"text-align:center\"><i>comb-duck</i></figcaption>\n",
        "  </figure>\n",
        "  \n",
        "  <figure>\n",
        "    <img src=\"https://external-content.duckduckgo.com/iu/?u=https%3A%2F%2Fmedia.istockphoto.com%2Fphotos%2Feurasian-wigeon-male-picture-id183331967%3Fk%3D6%26m%3D183331967%26s%3D612x612%26w%3D0%26h%3DJqcijVr8TZQNLocBQaTvHajF6fa6yotBQ9PEqPc7xJk%3D&f=1&nofb=1&ipt=27c60befb4b9cd576971df20866b924fdb5f9fd1b934e514ab7b75a32883c2ce&ipo=images\" width=250px/>\n",
        "    <figcaption style=\"text-align:center\"<i>eurasian-wigeon-duck</i></figcaption>\n",
        "  </figure>\n",
        "  \n",
        "  <figure>\n",
        "    <img src=\"https://external-content.duckduckgo.com/iu/?u=https%3A%2F%2Ftse3.mm.bing.net%2Fth%3Fid%3DOIP.DKG6dLgWtXF5SgcWRFg8uwHaE8%26pid%3DApi&f=1&ipt=f009f0ed25aa8c74df38edba7a4eb8273c75339484f4a1779ed76361c11ab6b2&ipo=images\" width=250px/>\n",
        "    <figcaption style=\"text-align:center\"><i>gadwall-duck</i></figcaption>\n",
        "  </figure>\n",
        "  \n",
        "  <figure>\n",
        "    <img src=\"https://external-content.duckduckgo.com/iu/?u=https%3A%2F%2Fwww.borealbirds.org%2Fsites%2Fdefault%2Ffiles%2Fbird_images%2Fcommon-goldeneye.jpg&f=1&nofb=1&ipt=5d5012465cc7caf2f386fe2aee3e0609c96183de88943969e6969805a09dbbed&ipo=images\" width=250px/>\n",
        "    <figcaption style=\"text-align:center\"><i>goldeneye-duck</i></figcaption>\n",
        "  </figure>\n",
        "</div>\n",
        "\n",
        "<div style=\"display: flex; flex-direction:row; width:800px\">\n",
        "  <figure>\n",
        "    <img src=\"https://external-content.duckduckgo.com/iu/?u=https%3A%2F%2Ffthmb.tqn.com%2FAp3xTxGJju9_hHscyGaARZch7Vc%3D%2F1500x1000%2Ffilters%3Afill(auto%2C1)%2Flesser-scaup-58ad86165f9b58a3c9797df9.jpg&f=1&nofb=1&ipt=f0337e497cdbacc45304d71b5dc9ef11d0ab690c7706ce3f18fe30c0dd80928e&ipo=images\" width=250px/>\n",
        "    <figcaption style=\"text-align:center\"<i>greater-scaup-duck</i></figcaption>\n",
        "  </figure>\n",
        "\n",
        "  <figure>\n",
        "    <img src=\"https://external-content.duckduckgo.com/iu/?u=https%3A%2F%2Ftse3.mm.bing.net%2Fth%3Fid%3DOIP.QbqBLaqOlzRhSyNhOyNGswHaET%26pid%3DApi&f=1&ipt=9432ce2fe2659d7c6f857eab81bb57b3e9f0ac3f7b6f5402576896071f583e0b&ipo=images\" width=250px/>\n",
        "    <figcaption style=\"text-align:center\"><i>harlequin-duck</i></figcaption>\n",
        "  </figure>\n",
        "  \n",
        "  <figure>\n",
        "    <img src=\"https://external-content.duckduckgo.com/iu/?u=https%3A%2F%2Ftse1.mm.bing.net%2Fth%3Fid%3DOIP.FSue1TGKeH04tX_biD1LbgHaEQ%26pid%3DApi&f=1&ipt=c0ed664e604afae33ab3018a36e5eeae7bffc95e601f52024abfe95e8838a233&ipo=images\" width=250px/>\n",
        "    <figcaption style=\"text-align:center\"><i>mallard-duck</i></figcaption>\n",
        "  </figure>\n",
        "  \n",
        "  <figure>\n",
        "    <img src=\"https://external-content.duckduckgo.com/iu/?u=https%3A%2F%2Fimages.fineartamerica.com%2Fimages%2Fartworkimages%2Fmediumlarge%2F3%2Fcolorful-mandarin-duck-of-central-park-geraldine-scull.jpg&f=1&nofb=1&ipt=fda01791e73f06d5470a253ee9ca1dc6c433333b7365d5a9f26d2650d9a9db6c&ipo=images\" width=250px/>\n",
        "    <figcaption style=\"text-align:center\"><i>mandarin-duck</i></figcaption>\n",
        "  </figure>\n",
        "</div> \n",
        "\n",
        "<div style=\"display: flex; flex-direction:row; width:800px\"> \n",
        "  <figure>\n",
        "    <img src=\"https://external-content.duckduckgo.com/iu/?u=https%3A%2F%2Fwww.audubon.org%2Fsites%2Fdefault%2Ffiles%2Fstyles%2Fgrid_gallery_lightbox%2Fpublic%2Fapa_2015_brunostruck_281181_northern_shoveler_kk_breeding-adult-male.jpg%3Fitok%3D_KyDpQrf&f=1&nofb=1&ipt=90327ee0d7fbcae3a01391ef42e743461325a3a0cf9e0e10dbea98fb5e58750a&ipo=images\" width=250px/>\n",
        "    <figcaption style=\"text-align:center\"><i>northern-shoveler-duck</i></figcaption>\n",
        "  </figure>\n",
        "  \n",
        "  <figure>\n",
        "    <img src=\"https://external-content.duckduckgo.com/iu/?u=https%3A%2F%2Ftse4.mm.bing.net%2Fth%3Fid%3DOIP.YQxihturo4VzkKEDwilfrAHaE8%26pid%3DApi&f=1&ipt=514c2080c2ec6fbe3872a35699a8f62992b16b16d84ac1cdc7a97f5e6b507dff&ipo=images\" width=250px/>\n",
        "    <figcaption style=\"text-align:center\"><i>pink-eared-duck</i></figcaption>\n",
        "  </figure>\n",
        "  \n",
        "  <figure>\n",
        "    <img src=\"https://external-content.duckduckgo.com/iu/?u=https%3A%2F%2Ftse4.mm.bing.net%2Fth%3Fid%3DOIP.sCXiZmoMJDDs17Uh58bcFgHaE8%26pid%3DApi&f=1&ipt=95d741d3687772938006dbe45079f99fcd5ff6eeafc17ca7f8ba531a910a4abc&ipo=images\" width=250px/>\n",
        "    <figcaption style=\"text-align:center\"><i>red-brested-merganser-duck</i></figcaption>\n",
        "  </figure>\n",
        "  \n",
        "  <figure>\n",
        "    <img src=\"https://external-content.duckduckgo.com/iu/?u=https%3A%2F%2Ftse2.mm.bing.net%2Fth%3Fid%3DOIP.54VGsV3-G9PBaTxqGEe2kgHaE1%26pid%3DApi&f=1&ipt=5a8c0d06e1507d85e8ffc1f5d3a7f8bb134fc7810e4dbd3e22d3509fd6cc8f39&ipo=images\" width=250px/>\n",
        "    <figcaption style=\"text-align:center\"><i>redhead-duck</i></figcaption>\n",
        "  </figure>\n",
        "</div>  \n",
        "\n",
        "<div style=\"display: flex; flex-direction:row; width:800px\">\n",
        "  <figure>\n",
        "    <img src=\"https://external-content.duckduckgo.com/iu/?u=https%3A%2F%2Ftse4.mm.bing.net%2Fth%3Fid%3DOIP.ribDEnMEWti8jrYNZTuJ_gHaFj%26pid%3DApi&f=1&ipt=23c96c86eecf0c60f9c6fbe57de04351f2312e72f5197b330e7b120cd7129f0b&ipo=images\" width=250px/>\n",
        "    <figcaption style=\"text-align:center\"><i>ruddy-duck</i></figcaption>\n",
        "  </figure>\n",
        "  \n",
        "  <figure>\n",
        "    <img src=\"https://external-content.duckduckgo.com/iu/?u=https%3A%2F%2Ftse2.mm.bing.net%2Fth%3Fid%3DOIP.y5BtEXRCjpL9wbD4-nfHhQHaFr%26pid%3DApi&f=1&ipt=0c24e5d0a1b264a0b2257668b32973930506ff95e5c3250fa9dfeabda56e2078&ipo=images\" width=250px/>\n",
        "    <figcaption style=\"text-align:center\"><i>torrent-duck</i></figcaption>\n",
        "  </figure>\n",
        "  \n",
        "  <figure>\n",
        "    <img src=\"https://external-content.duckduckgo.com/iu/?u=https%3A%2F%2Ftse3.mm.bing.net%2Fth%3Fid%3DOIP.A0NBec-gK1QYnFyboqN8ZQHaFD%26pid%3DApi&f=1&ipt=861ca9e50027191417df314e5fdd6cf0e07077090b3095bf70f08756fb09ce03&ipo=images\" width=250px/>\n",
        "    <figcaption style=\"text-align:center\"><i>wood-duck</i></figcaption>\n",
        "  </figure>\n",
        "  \n",
        "  <figure>\n",
        "    <img src=\"https://external-content.duckduckgo.com/iu/?u=https%3A%2F%2Fwww.yourobserver.com%2Fsites%2Fdefault%2Ffiles%2F334151_standard.jpeg&f=1&nofb=1&ipt=aee076109bbf5f1587ac3055a1768a2ac1373899b1ae4dfde4768145b633976c&ipo=images\" width=250px/>\n",
        "    <figcaption style=\"text-align:center\"><i>muscovy-duck</i></figcaption>\n",
        "  </figure>  \n",
        "</div>\n",
        "\n",
        "\n"
      ],
      "metadata": {
        "colab": {
          "base_uri": "https://localhost:8080/",
          "height": 1000
        },
        "cellView": "form",
        "id": "DoSxMvPpOk_x",
        "outputId": "78f5f396-3e4b-4df1-b099-1f4fdb3ca7f6"
      },
      "execution_count": null,
      "outputs": [
        {
          "output_type": "display_data",
          "data": {
            "text/plain": [
              "<IPython.core.display.HTML object>"
            ],
            "text/html": [
              "\n",
              "\n",
              "<p>O seguinte código tem por intuito treinar 3 modelos diferentes de CNNs para \n",
              "  classficar 20 classes diferentes de patos, dessa maneira encontrando o melhor\n",
              "   para aplicação no Telegram.</p>\n",
              "<br/>\n",
              "<p>As classes de patos possíveis são as seguintes:</p>\n",
              "\n",
              "<div style=\"display: flex; flex-direction:row; width:800px\">\n",
              "  <figure>\n",
              "    <img src=\"https://images.pexels.com/photos/6298570/pexels-photo-6298570.jpeg?auto=compress&cs=tinysrgb&w=1260&h=750&dpr=2\" width=250px/>\n",
              "    <figcaption style=\"text-align:center\"><i>american-black-duck</i></figcaption>\n",
              "  </figure>\n",
              "\n",
              "  <figure>\n",
              "    <img src=\"https://external-content.duckduckgo.com/iu/?u=https%3A%2F%2Fi.pinimg.com%2Foriginals%2F4c%2Ffe%2F1a%2F4cfe1ae024aa52a2d89c379880905dcc.jpg&f=1&nofb=1&ipt=05dd7061e66d69c26cc27228a75d3c490d630e606e2de18945d96cbbc0b88a12&ipo=images\" width=250px/>\n",
              "    <figcaption style=\"text-align:center\"><i>brazillan-teal-duck</i></figcaption>\n",
              "  </figure>\n",
              "\n",
              "  <figure>\n",
              "    <img src=\"https://external-content.duckduckgo.com/iu/?u=https%3A%2F%2Ftse2.mm.bing.net%2Fth%3Fid%3DOIP.xyR40XbVX2RUXXi6btzG8AHaFI%26pid%3DApi&f=1&ipt=830a42ca8f2723db75211f767042bcdd946db6f743bd5d8100d5a6bf07c8327a&ipo=images\" width=250px/>\n",
              "    <figcaption style=\"text-align:center\"><i>bufflehead-duck</i></figcaption>\n",
              "  </figure>\n",
              "\n",
              "  <figure>\n",
              "    <img src=\"https://external-content.duckduckgo.com/iu/?u=https%3A%2F%2Ftse2.mm.bing.net%2Fth%3Fid%3DOIP.6eTXDggAKXSsd97hOB31BQHaET%26pid%3DApi&f=1&ipt=d4b94a7c7063fb4621edfe2ea1a6785ed7d5436160d19fc131d8d89f0f332241&ipo=images\" width=250px/>\n",
              "    <figcaption style=\"text-align:center\"><i>canvasback-duck</i></figcaption>\n",
              "  </figure>\n",
              "</div>\n",
              " \n",
              "<div style=\"display: flex; flex-direction:row; width:800px\"> \n",
              "  <figure>\n",
              "    <img src=\"https://external-content.duckduckgo.com/iu/?u=https%3A%2F%2Fwww.zsl.org%2Fsites%2Fdefault%2Ffiles%2Fimage%2F2016-07%2FComb-duck.jpg&f=1&nofb=1&ipt=4049d61831a77ab47ae80f4e32acfb534961dcfb05c8fb851e932d77afba990a&ipo=images\" width=250px/>\n",
              "    <figcaption style=\"text-align:center\"><i>comb-duck</i></figcaption>\n",
              "  </figure>\n",
              "  \n",
              "  <figure>\n",
              "    <img src=\"https://external-content.duckduckgo.com/iu/?u=https%3A%2F%2Fmedia.istockphoto.com%2Fphotos%2Feurasian-wigeon-male-picture-id183331967%3Fk%3D6%26m%3D183331967%26s%3D612x612%26w%3D0%26h%3DJqcijVr8TZQNLocBQaTvHajF6fa6yotBQ9PEqPc7xJk%3D&f=1&nofb=1&ipt=27c60befb4b9cd576971df20866b924fdb5f9fd1b934e514ab7b75a32883c2ce&ipo=images\" width=250px/>\n",
              "    <figcaption style=\"text-align:center\"<i>eurasian-wigeon-duck</i></figcaption>\n",
              "  </figure>\n",
              "  \n",
              "  <figure>\n",
              "    <img src=\"https://external-content.duckduckgo.com/iu/?u=https%3A%2F%2Ftse3.mm.bing.net%2Fth%3Fid%3DOIP.DKG6dLgWtXF5SgcWRFg8uwHaE8%26pid%3DApi&f=1&ipt=f009f0ed25aa8c74df38edba7a4eb8273c75339484f4a1779ed76361c11ab6b2&ipo=images\" width=250px/>\n",
              "    <figcaption style=\"text-align:center\"><i>gadwall-duck</i></figcaption>\n",
              "  </figure>\n",
              "  \n",
              "  <figure>\n",
              "    <img src=\"https://external-content.duckduckgo.com/iu/?u=https%3A%2F%2Fwww.borealbirds.org%2Fsites%2Fdefault%2Ffiles%2Fbird_images%2Fcommon-goldeneye.jpg&f=1&nofb=1&ipt=5d5012465cc7caf2f386fe2aee3e0609c96183de88943969e6969805a09dbbed&ipo=images\" width=250px/>\n",
              "    <figcaption style=\"text-align:center\"><i>goldeneye-duck</i></figcaption>\n",
              "  </figure>\n",
              "</div>\n",
              "\n",
              "<div style=\"display: flex; flex-direction:row; width:800px\">\n",
              "  <figure>\n",
              "    <img src=\"https://external-content.duckduckgo.com/iu/?u=https%3A%2F%2Ffthmb.tqn.com%2FAp3xTxGJju9_hHscyGaARZch7Vc%3D%2F1500x1000%2Ffilters%3Afill(auto%2C1)%2Flesser-scaup-58ad86165f9b58a3c9797df9.jpg&f=1&nofb=1&ipt=f0337e497cdbacc45304d71b5dc9ef11d0ab690c7706ce3f18fe30c0dd80928e&ipo=images\" width=250px/>\n",
              "    <figcaption style=\"text-align:center\"<i>greater-scaup-duck</i></figcaption>\n",
              "  </figure>\n",
              "\n",
              "  <figure>\n",
              "    <img src=\"https://external-content.duckduckgo.com/iu/?u=https%3A%2F%2Ftse3.mm.bing.net%2Fth%3Fid%3DOIP.QbqBLaqOlzRhSyNhOyNGswHaET%26pid%3DApi&f=1&ipt=9432ce2fe2659d7c6f857eab81bb57b3e9f0ac3f7b6f5402576896071f583e0b&ipo=images\" width=250px/>\n",
              "    <figcaption style=\"text-align:center\"><i>harlequin-duck</i></figcaption>\n",
              "  </figure>\n",
              "  \n",
              "  <figure>\n",
              "    <img src=\"https://external-content.duckduckgo.com/iu/?u=https%3A%2F%2Ftse1.mm.bing.net%2Fth%3Fid%3DOIP.FSue1TGKeH04tX_biD1LbgHaEQ%26pid%3DApi&f=1&ipt=c0ed664e604afae33ab3018a36e5eeae7bffc95e601f52024abfe95e8838a233&ipo=images\" width=250px/>\n",
              "    <figcaption style=\"text-align:center\"><i>mallard-duck</i></figcaption>\n",
              "  </figure>\n",
              "  \n",
              "  <figure>\n",
              "    <img src=\"https://external-content.duckduckgo.com/iu/?u=https%3A%2F%2Fimages.fineartamerica.com%2Fimages%2Fartworkimages%2Fmediumlarge%2F3%2Fcolorful-mandarin-duck-of-central-park-geraldine-scull.jpg&f=1&nofb=1&ipt=fda01791e73f06d5470a253ee9ca1dc6c433333b7365d5a9f26d2650d9a9db6c&ipo=images\" width=250px/>\n",
              "    <figcaption style=\"text-align:center\"><i>mandarin-duck</i></figcaption>\n",
              "  </figure>\n",
              "</div> \n",
              "\n",
              "<div style=\"display: flex; flex-direction:row; width:800px\"> \n",
              "  <figure>\n",
              "    <img src=\"https://external-content.duckduckgo.com/iu/?u=https%3A%2F%2Fwww.audubon.org%2Fsites%2Fdefault%2Ffiles%2Fstyles%2Fgrid_gallery_lightbox%2Fpublic%2Fapa_2015_brunostruck_281181_northern_shoveler_kk_breeding-adult-male.jpg%3Fitok%3D_KyDpQrf&f=1&nofb=1&ipt=90327ee0d7fbcae3a01391ef42e743461325a3a0cf9e0e10dbea98fb5e58750a&ipo=images\" width=250px/>\n",
              "    <figcaption style=\"text-align:center\"><i>northern-shoveler-duck</i></figcaption>\n",
              "  </figure>\n",
              "  \n",
              "  <figure>\n",
              "    <img src=\"https://external-content.duckduckgo.com/iu/?u=https%3A%2F%2Ftse4.mm.bing.net%2Fth%3Fid%3DOIP.YQxihturo4VzkKEDwilfrAHaE8%26pid%3DApi&f=1&ipt=514c2080c2ec6fbe3872a35699a8f62992b16b16d84ac1cdc7a97f5e6b507dff&ipo=images\" width=250px/>\n",
              "    <figcaption style=\"text-align:center\"><i>pink-eared-duck</i></figcaption>\n",
              "  </figure>\n",
              "  \n",
              "  <figure>\n",
              "    <img src=\"https://external-content.duckduckgo.com/iu/?u=https%3A%2F%2Ftse4.mm.bing.net%2Fth%3Fid%3DOIP.sCXiZmoMJDDs17Uh58bcFgHaE8%26pid%3DApi&f=1&ipt=95d741d3687772938006dbe45079f99fcd5ff6eeafc17ca7f8ba531a910a4abc&ipo=images\" width=250px/>\n",
              "    <figcaption style=\"text-align:center\"><i>red-brested-merganser-duck</i></figcaption>\n",
              "  </figure>\n",
              "  \n",
              "  <figure>\n",
              "    <img src=\"https://external-content.duckduckgo.com/iu/?u=https%3A%2F%2Ftse2.mm.bing.net%2Fth%3Fid%3DOIP.54VGsV3-G9PBaTxqGEe2kgHaE1%26pid%3DApi&f=1&ipt=5a8c0d06e1507d85e8ffc1f5d3a7f8bb134fc7810e4dbd3e22d3509fd6cc8f39&ipo=images\" width=250px/>\n",
              "    <figcaption style=\"text-align:center\"><i>redhead-duck</i></figcaption>\n",
              "  </figure>\n",
              "</div>  \n",
              "\n",
              "<div style=\"display: flex; flex-direction:row; width:800px\">\n",
              "  <figure>\n",
              "    <img src=\"https://external-content.duckduckgo.com/iu/?u=https%3A%2F%2Ftse4.mm.bing.net%2Fth%3Fid%3DOIP.ribDEnMEWti8jrYNZTuJ_gHaFj%26pid%3DApi&f=1&ipt=23c96c86eecf0c60f9c6fbe57de04351f2312e72f5197b330e7b120cd7129f0b&ipo=images\" width=250px/>\n",
              "    <figcaption style=\"text-align:center\"><i>ruddy-duck</i></figcaption>\n",
              "  </figure>\n",
              "  \n",
              "  <figure>\n",
              "    <img src=\"https://external-content.duckduckgo.com/iu/?u=https%3A%2F%2Ftse2.mm.bing.net%2Fth%3Fid%3DOIP.y5BtEXRCjpL9wbD4-nfHhQHaFr%26pid%3DApi&f=1&ipt=0c24e5d0a1b264a0b2257668b32973930506ff95e5c3250fa9dfeabda56e2078&ipo=images\" width=250px/>\n",
              "    <figcaption style=\"text-align:center\"><i>torrent-duck</i></figcaption>\n",
              "  </figure>\n",
              "  \n",
              "  <figure>\n",
              "    <img src=\"https://external-content.duckduckgo.com/iu/?u=https%3A%2F%2Ftse3.mm.bing.net%2Fth%3Fid%3DOIP.A0NBec-gK1QYnFyboqN8ZQHaFD%26pid%3DApi&f=1&ipt=861ca9e50027191417df314e5fdd6cf0e07077090b3095bf70f08756fb09ce03&ipo=images\" width=250px/>\n",
              "    <figcaption style=\"text-align:center\"><i>wood-duck</i></figcaption>\n",
              "  </figure>\n",
              "  \n",
              "  <figure>\n",
              "    <img src=\"https://external-content.duckduckgo.com/iu/?u=https%3A%2F%2Fwww.yourobserver.com%2Fsites%2Fdefault%2Ffiles%2F334151_standard.jpeg&f=1&nofb=1&ipt=aee076109bbf5f1587ac3055a1768a2ac1373899b1ae4dfde4768145b633976c&ipo=images\" width=250px/>\n",
              "    <figcaption style=\"text-align:center\"><i>muscovy-duck</i></figcaption>\n",
              "  </figure>  \n",
              "</div>\n",
              "\n",
              "\n"
            ]
          },
          "metadata": {}
        }
      ]
    },
    {
      "cell_type": "markdown",
      "source": [
        "# Importação de bibliotecas e modelos"
      ],
      "metadata": {
        "id": "lNycIudes4Hk"
      }
    },
    {
      "cell_type": "markdown",
      "source": [
        "Primeiramente importa-se todas as bibliotecas e métodos necessários."
      ],
      "metadata": {
        "id": "1wG_wHt9s3Kp"
      }
    },
    {
      "cell_type": "code",
      "source": [
        "import os\n",
        "from PIL import Image,ImageStat\n",
        "import numpy as np\n",
        "import matplotlib.pyplot as plt\n",
        "\n",
        "import torchvision\n",
        "import torch\n",
        "import torch.nn as nn\n",
        "from torch.utils.data import  DataLoader, Dataset\n",
        "import torchvision.transforms as transforms\n",
        "\n",
        "from torch import optim \n",
        "import sklearn.metrics as metrics\n",
        "import torch.nn.functional as F\n",
        "import torchsummary\n",
        "\n",
        "from typing import Any,Tuple\n",
        "from sklearn.model_selection import train_test_split\n",
        "import sklearn.metrics as metrics\n",
        "\n"
      ],
      "metadata": {
        "id": "-44aZaAjkMO3"
      },
      "execution_count": null,
      "outputs": []
    },
    {
      "cell_type": "markdown",
      "source": [
        "Montando o drive do Google e listando o conteúdo de onde deve estar todas as imagens."
      ],
      "metadata": {
        "id": "pgI0QxumtAql"
      }
    },
    {
      "cell_type": "code",
      "source": [
        "from google.colab import drive\n",
        "drive.mount('/content/drive')"
      ],
      "metadata": {
        "colab": {
          "base_uri": "https://localhost:8080/",
          "height": 330
        },
        "id": "iqQ74C-YlRGo",
        "outputId": "b798b01f-d4d5-4f98-b64f-31dcc8a07f7b"
      },
      "execution_count": null,
      "outputs": [
        {
          "output_type": "error",
          "ename": "MessageError",
          "evalue": "ignored",
          "traceback": [
            "\u001b[0;31m---------------------------------------------------------------------------\u001b[0m",
            "\u001b[0;31mMessageError\u001b[0m                              Traceback (most recent call last)",
            "\u001b[0;32m<ipython-input-2-d5df0069828e>\u001b[0m in \u001b[0;36m<cell line: 2>\u001b[0;34m()\u001b[0m\n\u001b[1;32m      1\u001b[0m \u001b[0;32mfrom\u001b[0m \u001b[0mgoogle\u001b[0m\u001b[0;34m.\u001b[0m\u001b[0mcolab\u001b[0m \u001b[0;32mimport\u001b[0m \u001b[0mdrive\u001b[0m\u001b[0;34m\u001b[0m\u001b[0;34m\u001b[0m\u001b[0m\n\u001b[0;32m----> 2\u001b[0;31m \u001b[0mdrive\u001b[0m\u001b[0;34m.\u001b[0m\u001b[0mmount\u001b[0m\u001b[0;34m(\u001b[0m\u001b[0;34m'/content/drive'\u001b[0m\u001b[0;34m)\u001b[0m\u001b[0;34m\u001b[0m\u001b[0;34m\u001b[0m\u001b[0m\n\u001b[0m",
            "\u001b[0;32m/usr/local/lib/python3.9/dist-packages/google/colab/drive.py\u001b[0m in \u001b[0;36mmount\u001b[0;34m(mountpoint, force_remount, timeout_ms, readonly)\u001b[0m\n\u001b[1;32m    101\u001b[0m \u001b[0;32mdef\u001b[0m \u001b[0mmount\u001b[0m\u001b[0;34m(\u001b[0m\u001b[0mmountpoint\u001b[0m\u001b[0;34m,\u001b[0m \u001b[0mforce_remount\u001b[0m\u001b[0;34m=\u001b[0m\u001b[0;32mFalse\u001b[0m\u001b[0;34m,\u001b[0m \u001b[0mtimeout_ms\u001b[0m\u001b[0;34m=\u001b[0m\u001b[0;36m120000\u001b[0m\u001b[0;34m,\u001b[0m \u001b[0mreadonly\u001b[0m\u001b[0;34m=\u001b[0m\u001b[0;32mFalse\u001b[0m\u001b[0;34m)\u001b[0m\u001b[0;34m:\u001b[0m\u001b[0;34m\u001b[0m\u001b[0;34m\u001b[0m\u001b[0m\n\u001b[1;32m    102\u001b[0m   \u001b[0;34m\"\"\"Mount your Google Drive at the specified mountpoint path.\"\"\"\u001b[0m\u001b[0;34m\u001b[0m\u001b[0;34m\u001b[0m\u001b[0m\n\u001b[0;32m--> 103\u001b[0;31m   return _mount(\n\u001b[0m\u001b[1;32m    104\u001b[0m       \u001b[0mmountpoint\u001b[0m\u001b[0;34m,\u001b[0m\u001b[0;34m\u001b[0m\u001b[0;34m\u001b[0m\u001b[0m\n\u001b[1;32m    105\u001b[0m       \u001b[0mforce_remount\u001b[0m\u001b[0;34m=\u001b[0m\u001b[0mforce_remount\u001b[0m\u001b[0;34m,\u001b[0m\u001b[0;34m\u001b[0m\u001b[0;34m\u001b[0m\u001b[0m\n",
            "\u001b[0;32m/usr/local/lib/python3.9/dist-packages/google/colab/drive.py\u001b[0m in \u001b[0;36m_mount\u001b[0;34m(mountpoint, force_remount, timeout_ms, ephemeral, readonly)\u001b[0m\n\u001b[1;32m    130\u001b[0m   )\n\u001b[1;32m    131\u001b[0m   \u001b[0;32mif\u001b[0m \u001b[0mephemeral\u001b[0m\u001b[0;34m:\u001b[0m\u001b[0;34m\u001b[0m\u001b[0;34m\u001b[0m\u001b[0m\n\u001b[0;32m--> 132\u001b[0;31m     _message.blocking_request(\n\u001b[0m\u001b[1;32m    133\u001b[0m         \u001b[0;34m'request_auth'\u001b[0m\u001b[0;34m,\u001b[0m \u001b[0mrequest\u001b[0m\u001b[0;34m=\u001b[0m\u001b[0;34m{\u001b[0m\u001b[0;34m'authType'\u001b[0m\u001b[0;34m:\u001b[0m \u001b[0;34m'dfs_ephemeral'\u001b[0m\u001b[0;34m}\u001b[0m\u001b[0;34m,\u001b[0m \u001b[0mtimeout_sec\u001b[0m\u001b[0;34m=\u001b[0m\u001b[0;32mNone\u001b[0m\u001b[0;34m\u001b[0m\u001b[0;34m\u001b[0m\u001b[0m\n\u001b[1;32m    134\u001b[0m     )\n",
            "\u001b[0;32m/usr/local/lib/python3.9/dist-packages/google/colab/_message.py\u001b[0m in \u001b[0;36mblocking_request\u001b[0;34m(request_type, request, timeout_sec, parent)\u001b[0m\n\u001b[1;32m    175\u001b[0m       \u001b[0mrequest_type\u001b[0m\u001b[0;34m,\u001b[0m \u001b[0mrequest\u001b[0m\u001b[0;34m,\u001b[0m \u001b[0mparent\u001b[0m\u001b[0;34m=\u001b[0m\u001b[0mparent\u001b[0m\u001b[0;34m,\u001b[0m \u001b[0mexpect_reply\u001b[0m\u001b[0;34m=\u001b[0m\u001b[0;32mTrue\u001b[0m\u001b[0;34m\u001b[0m\u001b[0;34m\u001b[0m\u001b[0m\n\u001b[1;32m    176\u001b[0m   )\n\u001b[0;32m--> 177\u001b[0;31m   \u001b[0;32mreturn\u001b[0m \u001b[0mread_reply_from_input\u001b[0m\u001b[0;34m(\u001b[0m\u001b[0mrequest_id\u001b[0m\u001b[0;34m,\u001b[0m \u001b[0mtimeout_sec\u001b[0m\u001b[0;34m)\u001b[0m\u001b[0;34m\u001b[0m\u001b[0;34m\u001b[0m\u001b[0m\n\u001b[0m",
            "\u001b[0;32m/usr/local/lib/python3.9/dist-packages/google/colab/_message.py\u001b[0m in \u001b[0;36mread_reply_from_input\u001b[0;34m(message_id, timeout_sec)\u001b[0m\n\u001b[1;32m    102\u001b[0m     ):\n\u001b[1;32m    103\u001b[0m       \u001b[0;32mif\u001b[0m \u001b[0;34m'error'\u001b[0m \u001b[0;32min\u001b[0m \u001b[0mreply\u001b[0m\u001b[0;34m:\u001b[0m\u001b[0;34m\u001b[0m\u001b[0;34m\u001b[0m\u001b[0m\n\u001b[0;32m--> 104\u001b[0;31m         \u001b[0;32mraise\u001b[0m \u001b[0mMessageError\u001b[0m\u001b[0;34m(\u001b[0m\u001b[0mreply\u001b[0m\u001b[0;34m[\u001b[0m\u001b[0;34m'error'\u001b[0m\u001b[0;34m]\u001b[0m\u001b[0;34m)\u001b[0m\u001b[0;34m\u001b[0m\u001b[0;34m\u001b[0m\u001b[0m\n\u001b[0m\u001b[1;32m    105\u001b[0m       \u001b[0;32mreturn\u001b[0m \u001b[0mreply\u001b[0m\u001b[0;34m.\u001b[0m\u001b[0mget\u001b[0m\u001b[0;34m(\u001b[0m\u001b[0;34m'data'\u001b[0m\u001b[0;34m,\u001b[0m \u001b[0;32mNone\u001b[0m\u001b[0;34m)\u001b[0m\u001b[0;34m\u001b[0m\u001b[0;34m\u001b[0m\u001b[0m\n\u001b[1;32m    106\u001b[0m \u001b[0;34m\u001b[0m\u001b[0m\n",
            "\u001b[0;31mMessageError\u001b[0m: Error: credential propagation was unsuccessful"
          ]
        }
      ]
    },
    {
      "cell_type": "code",
      "source": [
        "directory = \"./drive/MyDrive/CNN\""
      ],
      "metadata": {
        "id": "zKlIFqxdljzE"
      },
      "execution_count": null,
      "outputs": []
    },
    {
      "cell_type": "markdown",
      "source": [
        "Importando os modelos que serão utilizados, sendo eles:\n",
        "\n",
        "- RegNet_X_1_6GF (*nmrs de params*= 9,190,136)\n",
        "- EfficientNet_B2 (*nmrs de params*= 9,109,994)\n",
        "- ShuffleNet_V2_X2_0 (*nmrs de params* = 7,393,996)\n",
        "\n",
        "Também aplicando os pesos *default* de cada modelo e modificando a última camada ```fully connected``` para representar o problema de 20 classes.\n"
      ],
      "metadata": {
        "id": "uJnOgPyqVzmX"
      }
    },
    {
      "cell_type": "code",
      "source": [
        "regnetX = torchvision.models.regnet_x_1_6gf(weights=torchvision.models.RegNet_X_1_6GF_Weights.DEFAULT, progress=True)\n",
        "efficientNet = torchvision.models.efficientnet_b2(weights=torchvision.models.EfficientNet_B2_Weights.DEFAULT, progress=True)\n",
        "shuffleNet = torchvision.models.shufflenet_v2_x2_0(weights=torchvision.models.ShuffleNet_V2_X2_0_Weights.DEFAULT, progress=True)\n",
        "\n",
        "regnetX.fc = nn.Linear(912, 20)\n",
        "print(regnetX.fc, end=\"\\n\\n\")\n",
        "\n",
        "efficientNet.classifier[1] = nn.Linear(1408, 20)\n",
        "print(efficientNet.classifier, end=\"\\n\\n\")\n",
        "\n",
        "shuffleNet.fc = nn.Linear(2048, 20)\n",
        "print(shuffleNet.fc)"
      ],
      "metadata": {
        "id": "202qLFcKkSt7"
      },
      "execution_count": null,
      "outputs": []
    },
    {
      "cell_type": "markdown",
      "source": [
        "# Preparação do dataset para treino"
      ],
      "metadata": {
        "id": "ij9TIh5BZsIV"
      }
    },
    {
      "cell_type": "markdown",
      "source": [
        "Criando uma função para garantir que todas as images estejam em **RGB**"
      ],
      "metadata": {
        "id": "tXkJa2ZgZxSP"
      }
    },
    {
      "cell_type": "code",
      "source": [
        "def image_loader(img):\n",
        "  return Image.open(img).convert('RGB')"
      ],
      "metadata": {
        "id": "3WNLsRz-kUBc"
      },
      "execution_count": null,
      "outputs": []
    },
    {
      "cell_type": "markdown",
      "source": [
        "Criando um dicionário com todas as classes a partir das pastas contendo as imagens"
      ],
      "metadata": {
        "id": "etGWn7PxadxU"
      }
    },
    {
      "cell_type": "code",
      "source": [
        "classes = [d.name for d in os.scandir(directory) if d.is_dir()]\n",
        "classes_to_idx = {cls_name: i for i, cls_name in enumerate(classes)}\n",
        "classes_to_idx"
      ],
      "metadata": {
        "colab": {
          "base_uri": "https://localhost:8080/"
        },
        "id": "9RMQVMjQkVS5",
        "outputId": "821d4a4a-a776-4687-fbd5-5695ca99fe2c"
      },
      "execution_count": null,
      "outputs": [
        {
          "output_type": "execute_result",
          "data": {
            "text/plain": [
              "{'american-black-duck': 0,\n",
              " 'brazillian-teal-duck': 1,\n",
              " 'bufflehead-duck': 2,\n",
              " 'canvasback-duck': 3,\n",
              " 'comb-duck': 4,\n",
              " 'eurasian-wigeon-duck': 5,\n",
              " 'gadwall-duck': 6,\n",
              " 'goldeneye-duck': 7,\n",
              " 'greater-scaup-duck': 8,\n",
              " 'harlequin-duck': 9,\n",
              " 'mallard-duck': 10,\n",
              " 'mandarin-duck': 11,\n",
              " 'northern-shoveler-duck': 12,\n",
              " 'pink-eared-duck': 13,\n",
              " 'red-brested-merganser-duck': 14,\n",
              " 'redhead-duck': 15,\n",
              " 'ruddy-duck': 16,\n",
              " 'torrent-duck': 17,\n",
              " 'wood-duck': 18,\n",
              " 'muscovy-duck': 19}"
            ]
          },
          "metadata": {},
          "execution_count": 6
        }
      ]
    },
    {
      "cell_type": "markdown",
      "source": [
        "Criação de uma função de conversão da imagem para um tensor, seguindo as transformações necessárias para todos os modelos importados."
      ],
      "metadata": {
        "id": "qGGf1We_bNQ5"
      }
    },
    {
      "cell_type": "code",
      "source": [
        "transformRegNet_ShuffleNet = transforms.Compose([transforms.Resize((232,232)),\n",
        "                                                transforms.CenterCrop(224),\n",
        "                                                transforms.ToTensor(),\n",
        "                                                transforms.Normalize((0.485, 0.456, 0.406), (0.229, 0.224, 0.225))\n",
        "                                                ])\n",
        "\n",
        "transformEfficientNet = transforms.Compose([transforms.Resize((288,288), interpolation=transforms.InterpolationMode.BICUBIC),\n",
        "                                            transforms.CenterCrop(288),\n",
        "                                            transforms.ToTensor(),\n",
        "                                            transforms.Normalize((0.485, 0.456, 0.406), (0.229, 0.224, 0.225))\n",
        "                                            ])"
      ],
      "metadata": {
        "id": "ZQcenOYgbXQB"
      },
      "execution_count": null,
      "outputs": []
    },
    {
      "cell_type": "markdown",
      "source": [
        "Definição da estrutura/classe DucksDataset, a mesma que será utilizada para passar para passar os tensores para os modelos."
      ],
      "metadata": {
        "id": "FQrB7oeJa5SW"
      }
    },
    {
      "cell_type": "code",
      "source": [
        "class DucksDataset(Dataset):\n",
        "    def __init__(self,dir,transform=None,target_transform=None,loader = None):\n",
        "        self.main_dir = dir\n",
        "        self.transform = transform\n",
        "        self.target_transform = target_transform\n",
        "        self.classes = [d.name for d in os.scandir(dir) if d.is_dir()]\n",
        "        self.classes.sort()\n",
        "        self.classes_to_idx = {cls_name: i for i, cls_name in enumerate(self.classes)}\n",
        "        self.targets = []\n",
        "        self.instances = self.make_instances()\n",
        "        self.loader = loader\n",
        "\n",
        "        if loader is None:\n",
        "            self.loader = lambda x: Image.open(x).convert('RGB')\n",
        "\n",
        "    def make_instances(self):\n",
        "        instances = []\n",
        "        targets = []\n",
        "        for target_class in sorted(self.classes_to_idx.keys()):\n",
        "                class_index = self.classes_to_idx[target_class]\n",
        "                target_dir = os.path.join(self.main_dir, target_class)\n",
        "                for root, _, fnames in sorted(os.walk(target_dir, followlinks=True)):\n",
        "                    for fname in sorted(fnames):\n",
        "                        path = os.path.join(root, fname)\n",
        "                        item = path, class_index\n",
        "                        targets.append(class_index)\n",
        "                        instances.append(item)\n",
        "        self.targets = torch.tensor(targets)\n",
        "        return instances\n",
        "        \n",
        "    def __getitem__(self,index:int) -> Tuple[Any,Any]:\n",
        "        path, target = self.instances[index]\n",
        "        instance = self.loader(path)\n",
        "        if self.transform is not None:\n",
        "            instance = self.transform(instance)\n",
        "        if self.target_transform is not None:\n",
        "            target = self.target_transform(target)\n",
        "        return instance,target\n",
        "    def __len__(self) -> int:\n",
        "        return len(self.instances)\n"
      ],
      "metadata": {
        "id": "0Opn3sGVkWvt"
      },
      "execution_count": null,
      "outputs": []
    },
    {
      "cell_type": "markdown",
      "source": [
        "Criação dos datasets"
      ],
      "metadata": {
        "id": "m21rYtvGguQu"
      }
    },
    {
      "cell_type": "code",
      "source": [
        "datasetRegNet_ShuffleNet = DucksDataset(directory, transform=transformRegNet_ShuffleNet)\n",
        "\n",
        "dataset_EfficientNet = DucksDataset(directory, transform=transformEfficientNet)\n"
      ],
      "metadata": {
        "id": "bECzJGlzkWpx"
      },
      "execution_count": null,
      "outputs": []
    },
    {
      "cell_type": "markdown",
      "source": [
        "# **Importante**\n",
        "\n",
        "Devido ao recursos necessários para testar cada modelo, o ato de treinamento de cada um não estará em si no Colab.\n",
        "\n",
        "Como cada treinamento demorou algumas horas e também o Colab restringiu o acesso a GPUs, parte do treinamento foi feito na própria máquina e apenas o ```pth``` gerado importado. Os mesmos também se encontram na pasta compartilhada."
      ],
      "metadata": {
        "id": "dDOAL7Ho3HiE"
      }
    },
    {
      "cell_type": "markdown",
      "source": [
        "# Treinamento RegNetX\n"
      ],
      "metadata": {
        "id": "7o3QQxgjhUq1"
      }
    },
    {
      "cell_type": "markdown",
      "source": [
        "Inicialização"
      ],
      "metadata": {
        "id": "SOj8GHg_hnXm"
      }
    },
    {
      "cell_type": "code",
      "source": [
        "ds=datasetRegNet_ShuffleNet"
      ],
      "metadata": {
        "id": "rl_sYaI0kY9u"
      },
      "execution_count": null,
      "outputs": []
    },
    {
      "cell_type": "markdown",
      "source": [
        "Divisão de conjunto de treino, teste e validação"
      ],
      "metadata": {
        "id": "AVvqjKU-hopW"
      }
    },
    {
      "cell_type": "code",
      "source": [
        "bs = 16\n",
        "train_idx, temp_idx = train_test_split(np.arange(len(ds)),test_size=0.3,shuffle=True,stratify=ds.targets)\n",
        "valid_idx, test_idx = train_test_split(temp_idx,test_size=0.5,shuffle=True,stratify=ds.targets[temp_idx])\n",
        " \n",
        "train_sampler = torch.utils.data.SubsetRandomSampler(train_idx)\n",
        "valid_sampler = torch.utils.data.SubsetRandomSampler(valid_idx)\n",
        "test_sampler  = torch.utils.data.SubsetRandomSampler(test_idx)\n",
        " \n",
        "dl_train = torch.utils.data.DataLoader(ds,batch_size=bs,sampler=train_sampler)\n",
        "dl_valid = torch.utils.data.DataLoader(ds,batch_size=bs,sampler=valid_sampler)\n",
        "dl_test  = torch.utils.data.DataLoader(ds,batch_size=bs,sampler=test_sampler)"
      ],
      "metadata": {
        "id": "hUAoH8chkdLn"
      },
      "execution_count": null,
      "outputs": []
    },
    {
      "cell_type": "markdown",
      "source": [
        "Jogando o modelo para o *device* disponível"
      ],
      "metadata": {
        "id": "clNSL8Uqhscg"
      }
    },
    {
      "cell_type": "code",
      "source": [
        "device = torch.device('cuda:0') if torch.cuda.is_available() else torch.device('cpu')\n",
        "regnetX.to(device)"
      ],
      "metadata": {
        "id": "MFurNNYskfM3",
        "colab": {
          "base_uri": "https://localhost:8080/"
        },
        "outputId": "637f8282-0866-41b7-b7b6-63251a86c2ff"
      },
      "execution_count": null,
      "outputs": [
        {
          "output_type": "execute_result",
          "data": {
            "text/plain": [
              "RegNet(\n",
              "  (stem): SimpleStemIN(\n",
              "    (0): Conv2d(3, 32, kernel_size=(3, 3), stride=(2, 2), padding=(1, 1), bias=False)\n",
              "    (1): BatchNorm2d(32, eps=1e-05, momentum=0.1, affine=True, track_running_stats=True)\n",
              "    (2): ReLU(inplace=True)\n",
              "  )\n",
              "  (trunk_output): Sequential(\n",
              "    (block1): AnyStage(\n",
              "      (block1-0): ResBottleneckBlock(\n",
              "        (proj): Conv2dNormActivation(\n",
              "          (0): Conv2d(32, 72, kernel_size=(1, 1), stride=(2, 2), bias=False)\n",
              "          (1): BatchNorm2d(72, eps=1e-05, momentum=0.1, affine=True, track_running_stats=True)\n",
              "        )\n",
              "        (f): BottleneckTransform(\n",
              "          (a): Conv2dNormActivation(\n",
              "            (0): Conv2d(32, 72, kernel_size=(1, 1), stride=(1, 1), bias=False)\n",
              "            (1): BatchNorm2d(72, eps=1e-05, momentum=0.1, affine=True, track_running_stats=True)\n",
              "            (2): ReLU(inplace=True)\n",
              "          )\n",
              "          (b): Conv2dNormActivation(\n",
              "            (0): Conv2d(72, 72, kernel_size=(3, 3), stride=(2, 2), padding=(1, 1), groups=3, bias=False)\n",
              "            (1): BatchNorm2d(72, eps=1e-05, momentum=0.1, affine=True, track_running_stats=True)\n",
              "            (2): ReLU(inplace=True)\n",
              "          )\n",
              "          (c): Conv2dNormActivation(\n",
              "            (0): Conv2d(72, 72, kernel_size=(1, 1), stride=(1, 1), bias=False)\n",
              "            (1): BatchNorm2d(72, eps=1e-05, momentum=0.1, affine=True, track_running_stats=True)\n",
              "          )\n",
              "        )\n",
              "        (activation): ReLU(inplace=True)\n",
              "      )\n",
              "      (block1-1): ResBottleneckBlock(\n",
              "        (f): BottleneckTransform(\n",
              "          (a): Conv2dNormActivation(\n",
              "            (0): Conv2d(72, 72, kernel_size=(1, 1), stride=(1, 1), bias=False)\n",
              "            (1): BatchNorm2d(72, eps=1e-05, momentum=0.1, affine=True, track_running_stats=True)\n",
              "            (2): ReLU(inplace=True)\n",
              "          )\n",
              "          (b): Conv2dNormActivation(\n",
              "            (0): Conv2d(72, 72, kernel_size=(3, 3), stride=(1, 1), padding=(1, 1), groups=3, bias=False)\n",
              "            (1): BatchNorm2d(72, eps=1e-05, momentum=0.1, affine=True, track_running_stats=True)\n",
              "            (2): ReLU(inplace=True)\n",
              "          )\n",
              "          (c): Conv2dNormActivation(\n",
              "            (0): Conv2d(72, 72, kernel_size=(1, 1), stride=(1, 1), bias=False)\n",
              "            (1): BatchNorm2d(72, eps=1e-05, momentum=0.1, affine=True, track_running_stats=True)\n",
              "          )\n",
              "        )\n",
              "        (activation): ReLU(inplace=True)\n",
              "      )\n",
              "    )\n",
              "    (block2): AnyStage(\n",
              "      (block2-0): ResBottleneckBlock(\n",
              "        (proj): Conv2dNormActivation(\n",
              "          (0): Conv2d(72, 168, kernel_size=(1, 1), stride=(2, 2), bias=False)\n",
              "          (1): BatchNorm2d(168, eps=1e-05, momentum=0.1, affine=True, track_running_stats=True)\n",
              "        )\n",
              "        (f): BottleneckTransform(\n",
              "          (a): Conv2dNormActivation(\n",
              "            (0): Conv2d(72, 168, kernel_size=(1, 1), stride=(1, 1), bias=False)\n",
              "            (1): BatchNorm2d(168, eps=1e-05, momentum=0.1, affine=True, track_running_stats=True)\n",
              "            (2): ReLU(inplace=True)\n",
              "          )\n",
              "          (b): Conv2dNormActivation(\n",
              "            (0): Conv2d(168, 168, kernel_size=(3, 3), stride=(2, 2), padding=(1, 1), groups=7, bias=False)\n",
              "            (1): BatchNorm2d(168, eps=1e-05, momentum=0.1, affine=True, track_running_stats=True)\n",
              "            (2): ReLU(inplace=True)\n",
              "          )\n",
              "          (c): Conv2dNormActivation(\n",
              "            (0): Conv2d(168, 168, kernel_size=(1, 1), stride=(1, 1), bias=False)\n",
              "            (1): BatchNorm2d(168, eps=1e-05, momentum=0.1, affine=True, track_running_stats=True)\n",
              "          )\n",
              "        )\n",
              "        (activation): ReLU(inplace=True)\n",
              "      )\n",
              "      (block2-1): ResBottleneckBlock(\n",
              "        (f): BottleneckTransform(\n",
              "          (a): Conv2dNormActivation(\n",
              "            (0): Conv2d(168, 168, kernel_size=(1, 1), stride=(1, 1), bias=False)\n",
              "            (1): BatchNorm2d(168, eps=1e-05, momentum=0.1, affine=True, track_running_stats=True)\n",
              "            (2): ReLU(inplace=True)\n",
              "          )\n",
              "          (b): Conv2dNormActivation(\n",
              "            (0): Conv2d(168, 168, kernel_size=(3, 3), stride=(1, 1), padding=(1, 1), groups=7, bias=False)\n",
              "            (1): BatchNorm2d(168, eps=1e-05, momentum=0.1, affine=True, track_running_stats=True)\n",
              "            (2): ReLU(inplace=True)\n",
              "          )\n",
              "          (c): Conv2dNormActivation(\n",
              "            (0): Conv2d(168, 168, kernel_size=(1, 1), stride=(1, 1), bias=False)\n",
              "            (1): BatchNorm2d(168, eps=1e-05, momentum=0.1, affine=True, track_running_stats=True)\n",
              "          )\n",
              "        )\n",
              "        (activation): ReLU(inplace=True)\n",
              "      )\n",
              "      (block2-2): ResBottleneckBlock(\n",
              "        (f): BottleneckTransform(\n",
              "          (a): Conv2dNormActivation(\n",
              "            (0): Conv2d(168, 168, kernel_size=(1, 1), stride=(1, 1), bias=False)\n",
              "            (1): BatchNorm2d(168, eps=1e-05, momentum=0.1, affine=True, track_running_stats=True)\n",
              "            (2): ReLU(inplace=True)\n",
              "          )\n",
              "          (b): Conv2dNormActivation(\n",
              "            (0): Conv2d(168, 168, kernel_size=(3, 3), stride=(1, 1), padding=(1, 1), groups=7, bias=False)\n",
              "            (1): BatchNorm2d(168, eps=1e-05, momentum=0.1, affine=True, track_running_stats=True)\n",
              "            (2): ReLU(inplace=True)\n",
              "          )\n",
              "          (c): Conv2dNormActivation(\n",
              "            (0): Conv2d(168, 168, kernel_size=(1, 1), stride=(1, 1), bias=False)\n",
              "            (1): BatchNorm2d(168, eps=1e-05, momentum=0.1, affine=True, track_running_stats=True)\n",
              "          )\n",
              "        )\n",
              "        (activation): ReLU(inplace=True)\n",
              "      )\n",
              "      (block2-3): ResBottleneckBlock(\n",
              "        (f): BottleneckTransform(\n",
              "          (a): Conv2dNormActivation(\n",
              "            (0): Conv2d(168, 168, kernel_size=(1, 1), stride=(1, 1), bias=False)\n",
              "            (1): BatchNorm2d(168, eps=1e-05, momentum=0.1, affine=True, track_running_stats=True)\n",
              "            (2): ReLU(inplace=True)\n",
              "          )\n",
              "          (b): Conv2dNormActivation(\n",
              "            (0): Conv2d(168, 168, kernel_size=(3, 3), stride=(1, 1), padding=(1, 1), groups=7, bias=False)\n",
              "            (1): BatchNorm2d(168, eps=1e-05, momentum=0.1, affine=True, track_running_stats=True)\n",
              "            (2): ReLU(inplace=True)\n",
              "          )\n",
              "          (c): Conv2dNormActivation(\n",
              "            (0): Conv2d(168, 168, kernel_size=(1, 1), stride=(1, 1), bias=False)\n",
              "            (1): BatchNorm2d(168, eps=1e-05, momentum=0.1, affine=True, track_running_stats=True)\n",
              "          )\n",
              "        )\n",
              "        (activation): ReLU(inplace=True)\n",
              "      )\n",
              "    )\n",
              "    (block3): AnyStage(\n",
              "      (block3-0): ResBottleneckBlock(\n",
              "        (proj): Conv2dNormActivation(\n",
              "          (0): Conv2d(168, 408, kernel_size=(1, 1), stride=(2, 2), bias=False)\n",
              "          (1): BatchNorm2d(408, eps=1e-05, momentum=0.1, affine=True, track_running_stats=True)\n",
              "        )\n",
              "        (f): BottleneckTransform(\n",
              "          (a): Conv2dNormActivation(\n",
              "            (0): Conv2d(168, 408, kernel_size=(1, 1), stride=(1, 1), bias=False)\n",
              "            (1): BatchNorm2d(408, eps=1e-05, momentum=0.1, affine=True, track_running_stats=True)\n",
              "            (2): ReLU(inplace=True)\n",
              "          )\n",
              "          (b): Conv2dNormActivation(\n",
              "            (0): Conv2d(408, 408, kernel_size=(3, 3), stride=(2, 2), padding=(1, 1), groups=17, bias=False)\n",
              "            (1): BatchNorm2d(408, eps=1e-05, momentum=0.1, affine=True, track_running_stats=True)\n",
              "            (2): ReLU(inplace=True)\n",
              "          )\n",
              "          (c): Conv2dNormActivation(\n",
              "            (0): Conv2d(408, 408, kernel_size=(1, 1), stride=(1, 1), bias=False)\n",
              "            (1): BatchNorm2d(408, eps=1e-05, momentum=0.1, affine=True, track_running_stats=True)\n",
              "          )\n",
              "        )\n",
              "        (activation): ReLU(inplace=True)\n",
              "      )\n",
              "      (block3-1): ResBottleneckBlock(\n",
              "        (f): BottleneckTransform(\n",
              "          (a): Conv2dNormActivation(\n",
              "            (0): Conv2d(408, 408, kernel_size=(1, 1), stride=(1, 1), bias=False)\n",
              "            (1): BatchNorm2d(408, eps=1e-05, momentum=0.1, affine=True, track_running_stats=True)\n",
              "            (2): ReLU(inplace=True)\n",
              "          )\n",
              "          (b): Conv2dNormActivation(\n",
              "            (0): Conv2d(408, 408, kernel_size=(3, 3), stride=(1, 1), padding=(1, 1), groups=17, bias=False)\n",
              "            (1): BatchNorm2d(408, eps=1e-05, momentum=0.1, affine=True, track_running_stats=True)\n",
              "            (2): ReLU(inplace=True)\n",
              "          )\n",
              "          (c): Conv2dNormActivation(\n",
              "            (0): Conv2d(408, 408, kernel_size=(1, 1), stride=(1, 1), bias=False)\n",
              "            (1): BatchNorm2d(408, eps=1e-05, momentum=0.1, affine=True, track_running_stats=True)\n",
              "          )\n",
              "        )\n",
              "        (activation): ReLU(inplace=True)\n",
              "      )\n",
              "      (block3-2): ResBottleneckBlock(\n",
              "        (f): BottleneckTransform(\n",
              "          (a): Conv2dNormActivation(\n",
              "            (0): Conv2d(408, 408, kernel_size=(1, 1), stride=(1, 1), bias=False)\n",
              "            (1): BatchNorm2d(408, eps=1e-05, momentum=0.1, affine=True, track_running_stats=True)\n",
              "            (2): ReLU(inplace=True)\n",
              "          )\n",
              "          (b): Conv2dNormActivation(\n",
              "            (0): Conv2d(408, 408, kernel_size=(3, 3), stride=(1, 1), padding=(1, 1), groups=17, bias=False)\n",
              "            (1): BatchNorm2d(408, eps=1e-05, momentum=0.1, affine=True, track_running_stats=True)\n",
              "            (2): ReLU(inplace=True)\n",
              "          )\n",
              "          (c): Conv2dNormActivation(\n",
              "            (0): Conv2d(408, 408, kernel_size=(1, 1), stride=(1, 1), bias=False)\n",
              "            (1): BatchNorm2d(408, eps=1e-05, momentum=0.1, affine=True, track_running_stats=True)\n",
              "          )\n",
              "        )\n",
              "        (activation): ReLU(inplace=True)\n",
              "      )\n",
              "      (block3-3): ResBottleneckBlock(\n",
              "        (f): BottleneckTransform(\n",
              "          (a): Conv2dNormActivation(\n",
              "            (0): Conv2d(408, 408, kernel_size=(1, 1), stride=(1, 1), bias=False)\n",
              "            (1): BatchNorm2d(408, eps=1e-05, momentum=0.1, affine=True, track_running_stats=True)\n",
              "            (2): ReLU(inplace=True)\n",
              "          )\n",
              "          (b): Conv2dNormActivation(\n",
              "            (0): Conv2d(408, 408, kernel_size=(3, 3), stride=(1, 1), padding=(1, 1), groups=17, bias=False)\n",
              "            (1): BatchNorm2d(408, eps=1e-05, momentum=0.1, affine=True, track_running_stats=True)\n",
              "            (2): ReLU(inplace=True)\n",
              "          )\n",
              "          (c): Conv2dNormActivation(\n",
              "            (0): Conv2d(408, 408, kernel_size=(1, 1), stride=(1, 1), bias=False)\n",
              "            (1): BatchNorm2d(408, eps=1e-05, momentum=0.1, affine=True, track_running_stats=True)\n",
              "          )\n",
              "        )\n",
              "        (activation): ReLU(inplace=True)\n",
              "      )\n",
              "      (block3-4): ResBottleneckBlock(\n",
              "        (f): BottleneckTransform(\n",
              "          (a): Conv2dNormActivation(\n",
              "            (0): Conv2d(408, 408, kernel_size=(1, 1), stride=(1, 1), bias=False)\n",
              "            (1): BatchNorm2d(408, eps=1e-05, momentum=0.1, affine=True, track_running_stats=True)\n",
              "            (2): ReLU(inplace=True)\n",
              "          )\n",
              "          (b): Conv2dNormActivation(\n",
              "            (0): Conv2d(408, 408, kernel_size=(3, 3), stride=(1, 1), padding=(1, 1), groups=17, bias=False)\n",
              "            (1): BatchNorm2d(408, eps=1e-05, momentum=0.1, affine=True, track_running_stats=True)\n",
              "            (2): ReLU(inplace=True)\n",
              "          )\n",
              "          (c): Conv2dNormActivation(\n",
              "            (0): Conv2d(408, 408, kernel_size=(1, 1), stride=(1, 1), bias=False)\n",
              "            (1): BatchNorm2d(408, eps=1e-05, momentum=0.1, affine=True, track_running_stats=True)\n",
              "          )\n",
              "        )\n",
              "        (activation): ReLU(inplace=True)\n",
              "      )\n",
              "      (block3-5): ResBottleneckBlock(\n",
              "        (f): BottleneckTransform(\n",
              "          (a): Conv2dNormActivation(\n",
              "            (0): Conv2d(408, 408, kernel_size=(1, 1), stride=(1, 1), bias=False)\n",
              "            (1): BatchNorm2d(408, eps=1e-05, momentum=0.1, affine=True, track_running_stats=True)\n",
              "            (2): ReLU(inplace=True)\n",
              "          )\n",
              "          (b): Conv2dNormActivation(\n",
              "            (0): Conv2d(408, 408, kernel_size=(3, 3), stride=(1, 1), padding=(1, 1), groups=17, bias=False)\n",
              "            (1): BatchNorm2d(408, eps=1e-05, momentum=0.1, affine=True, track_running_stats=True)\n",
              "            (2): ReLU(inplace=True)\n",
              "          )\n",
              "          (c): Conv2dNormActivation(\n",
              "            (0): Conv2d(408, 408, kernel_size=(1, 1), stride=(1, 1), bias=False)\n",
              "            (1): BatchNorm2d(408, eps=1e-05, momentum=0.1, affine=True, track_running_stats=True)\n",
              "          )\n",
              "        )\n",
              "        (activation): ReLU(inplace=True)\n",
              "      )\n",
              "      (block3-6): ResBottleneckBlock(\n",
              "        (f): BottleneckTransform(\n",
              "          (a): Conv2dNormActivation(\n",
              "            (0): Conv2d(408, 408, kernel_size=(1, 1), stride=(1, 1), bias=False)\n",
              "            (1): BatchNorm2d(408, eps=1e-05, momentum=0.1, affine=True, track_running_stats=True)\n",
              "            (2): ReLU(inplace=True)\n",
              "          )\n",
              "          (b): Conv2dNormActivation(\n",
              "            (0): Conv2d(408, 408, kernel_size=(3, 3), stride=(1, 1), padding=(1, 1), groups=17, bias=False)\n",
              "            (1): BatchNorm2d(408, eps=1e-05, momentum=0.1, affine=True, track_running_stats=True)\n",
              "            (2): ReLU(inplace=True)\n",
              "          )\n",
              "          (c): Conv2dNormActivation(\n",
              "            (0): Conv2d(408, 408, kernel_size=(1, 1), stride=(1, 1), bias=False)\n",
              "            (1): BatchNorm2d(408, eps=1e-05, momentum=0.1, affine=True, track_running_stats=True)\n",
              "          )\n",
              "        )\n",
              "        (activation): ReLU(inplace=True)\n",
              "      )\n",
              "      (block3-7): ResBottleneckBlock(\n",
              "        (f): BottleneckTransform(\n",
              "          (a): Conv2dNormActivation(\n",
              "            (0): Conv2d(408, 408, kernel_size=(1, 1), stride=(1, 1), bias=False)\n",
              "            (1): BatchNorm2d(408, eps=1e-05, momentum=0.1, affine=True, track_running_stats=True)\n",
              "            (2): ReLU(inplace=True)\n",
              "          )\n",
              "          (b): Conv2dNormActivation(\n",
              "            (0): Conv2d(408, 408, kernel_size=(3, 3), stride=(1, 1), padding=(1, 1), groups=17, bias=False)\n",
              "            (1): BatchNorm2d(408, eps=1e-05, momentum=0.1, affine=True, track_running_stats=True)\n",
              "            (2): ReLU(inplace=True)\n",
              "          )\n",
              "          (c): Conv2dNormActivation(\n",
              "            (0): Conv2d(408, 408, kernel_size=(1, 1), stride=(1, 1), bias=False)\n",
              "            (1): BatchNorm2d(408, eps=1e-05, momentum=0.1, affine=True, track_running_stats=True)\n",
              "          )\n",
              "        )\n",
              "        (activation): ReLU(inplace=True)\n",
              "      )\n",
              "      (block3-8): ResBottleneckBlock(\n",
              "        (f): BottleneckTransform(\n",
              "          (a): Conv2dNormActivation(\n",
              "            (0): Conv2d(408, 408, kernel_size=(1, 1), stride=(1, 1), bias=False)\n",
              "            (1): BatchNorm2d(408, eps=1e-05, momentum=0.1, affine=True, track_running_stats=True)\n",
              "            (2): ReLU(inplace=True)\n",
              "          )\n",
              "          (b): Conv2dNormActivation(\n",
              "            (0): Conv2d(408, 408, kernel_size=(3, 3), stride=(1, 1), padding=(1, 1), groups=17, bias=False)\n",
              "            (1): BatchNorm2d(408, eps=1e-05, momentum=0.1, affine=True, track_running_stats=True)\n",
              "            (2): ReLU(inplace=True)\n",
              "          )\n",
              "          (c): Conv2dNormActivation(\n",
              "            (0): Conv2d(408, 408, kernel_size=(1, 1), stride=(1, 1), bias=False)\n",
              "            (1): BatchNorm2d(408, eps=1e-05, momentum=0.1, affine=True, track_running_stats=True)\n",
              "          )\n",
              "        )\n",
              "        (activation): ReLU(inplace=True)\n",
              "      )\n",
              "      (block3-9): ResBottleneckBlock(\n",
              "        (f): BottleneckTransform(\n",
              "          (a): Conv2dNormActivation(\n",
              "            (0): Conv2d(408, 408, kernel_size=(1, 1), stride=(1, 1), bias=False)\n",
              "            (1): BatchNorm2d(408, eps=1e-05, momentum=0.1, affine=True, track_running_stats=True)\n",
              "            (2): ReLU(inplace=True)\n",
              "          )\n",
              "          (b): Conv2dNormActivation(\n",
              "            (0): Conv2d(408, 408, kernel_size=(3, 3), stride=(1, 1), padding=(1, 1), groups=17, bias=False)\n",
              "            (1): BatchNorm2d(408, eps=1e-05, momentum=0.1, affine=True, track_running_stats=True)\n",
              "            (2): ReLU(inplace=True)\n",
              "          )\n",
              "          (c): Conv2dNormActivation(\n",
              "            (0): Conv2d(408, 408, kernel_size=(1, 1), stride=(1, 1), bias=False)\n",
              "            (1): BatchNorm2d(408, eps=1e-05, momentum=0.1, affine=True, track_running_stats=True)\n",
              "          )\n",
              "        )\n",
              "        (activation): ReLU(inplace=True)\n",
              "      )\n",
              "    )\n",
              "    (block4): AnyStage(\n",
              "      (block4-0): ResBottleneckBlock(\n",
              "        (proj): Conv2dNormActivation(\n",
              "          (0): Conv2d(408, 912, kernel_size=(1, 1), stride=(2, 2), bias=False)\n",
              "          (1): BatchNorm2d(912, eps=1e-05, momentum=0.1, affine=True, track_running_stats=True)\n",
              "        )\n",
              "        (f): BottleneckTransform(\n",
              "          (a): Conv2dNormActivation(\n",
              "            (0): Conv2d(408, 912, kernel_size=(1, 1), stride=(1, 1), bias=False)\n",
              "            (1): BatchNorm2d(912, eps=1e-05, momentum=0.1, affine=True, track_running_stats=True)\n",
              "            (2): ReLU(inplace=True)\n",
              "          )\n",
              "          (b): Conv2dNormActivation(\n",
              "            (0): Conv2d(912, 912, kernel_size=(3, 3), stride=(2, 2), padding=(1, 1), groups=38, bias=False)\n",
              "            (1): BatchNorm2d(912, eps=1e-05, momentum=0.1, affine=True, track_running_stats=True)\n",
              "            (2): ReLU(inplace=True)\n",
              "          )\n",
              "          (c): Conv2dNormActivation(\n",
              "            (0): Conv2d(912, 912, kernel_size=(1, 1), stride=(1, 1), bias=False)\n",
              "            (1): BatchNorm2d(912, eps=1e-05, momentum=0.1, affine=True, track_running_stats=True)\n",
              "          )\n",
              "        )\n",
              "        (activation): ReLU(inplace=True)\n",
              "      )\n",
              "      (block4-1): ResBottleneckBlock(\n",
              "        (f): BottleneckTransform(\n",
              "          (a): Conv2dNormActivation(\n",
              "            (0): Conv2d(912, 912, kernel_size=(1, 1), stride=(1, 1), bias=False)\n",
              "            (1): BatchNorm2d(912, eps=1e-05, momentum=0.1, affine=True, track_running_stats=True)\n",
              "            (2): ReLU(inplace=True)\n",
              "          )\n",
              "          (b): Conv2dNormActivation(\n",
              "            (0): Conv2d(912, 912, kernel_size=(3, 3), stride=(1, 1), padding=(1, 1), groups=38, bias=False)\n",
              "            (1): BatchNorm2d(912, eps=1e-05, momentum=0.1, affine=True, track_running_stats=True)\n",
              "            (2): ReLU(inplace=True)\n",
              "          )\n",
              "          (c): Conv2dNormActivation(\n",
              "            (0): Conv2d(912, 912, kernel_size=(1, 1), stride=(1, 1), bias=False)\n",
              "            (1): BatchNorm2d(912, eps=1e-05, momentum=0.1, affine=True, track_running_stats=True)\n",
              "          )\n",
              "        )\n",
              "        (activation): ReLU(inplace=True)\n",
              "      )\n",
              "    )\n",
              "  )\n",
              "  (avgpool): AdaptiveAvgPool2d(output_size=(1, 1))\n",
              "  (fc): Linear(in_features=912, out_features=20, bias=True)\n",
              ")"
            ]
          },
          "metadata": {},
          "execution_count": 10
        }
      ]
    },
    {
      "cell_type": "markdown",
      "source": [
        "Algumas informações relacionados a GPU adquirida"
      ],
      "metadata": {
        "id": "g0UJ1_iqh_31"
      }
    },
    {
      "cell_type": "code",
      "source": [
        "if torch.cuda.is_available():\n",
        "  torch.cuda.get_device_properties(0)"
      ],
      "metadata": {
        "id": "F3OYso1Hm2yg"
      },
      "execution_count": null,
      "outputs": []
    },
    {
      "cell_type": "markdown",
      "source": [
        "Establecimento de parâmetros para o treino"
      ],
      "metadata": {
        "id": "WB0SpWudiE_f"
      }
    },
    {
      "cell_type": "code",
      "source": [
        "loss_train = []\n",
        "loss_eval  = []\n",
        "patience_time = 15\n",
        "criterion = nn.CrossEntropyLoss()\n",
        "optR = optim.SGD(regnetX.parameters(),lr=0.001)\n",
        "# regnetX.to(device)\n"
      ],
      "metadata": {
        "id": "VAouUnKokgxV"
      },
      "execution_count": null,
      "outputs": []
    },
    {
      "cell_type": "markdown",
      "source": [
        "Treinamento"
      ],
      "metadata": {
        "id": "UgIkDXhqiJB-"
      }
    },
    {
      "cell_type": "code",
      "source": [
        "epochs = 100\n",
        "\n",
        "stop = False\n",
        "epoch = 0\n",
        "lowest_loss_eval = 10000\n",
        "last_best_result = 0\n",
        "while (not stop):\n",
        "    #wandb.watch(regnetX)\n",
        "    regnetX.train()\n",
        "    lloss = []\n",
        "    for x,y in dl_train:\n",
        "        x = x.to(device)\n",
        "        y = y.to(device)\n",
        "        pred = regnetX(x)\n",
        "        closs = criterion(pred,y)\n",
        "        closs.backward()\n",
        "        optR.step()\n",
        "        optR.zero_grad()\n",
        "        lloss.append(closs.item())\n",
        "        #print(closs.item())\n",
        "    loss_train.append(np.mean(lloss))\n",
        "    lloss = []\n",
        "    regnetX.eval()\n",
        "    lres = []\n",
        "    ytrue = []\n",
        "    with torch.no_grad():\n",
        "        for data,y in dl_valid:\n",
        "            data = data.to(device)\n",
        "            pred = regnetX(data)\n",
        "            closs = criterion(pred.cpu(),y)\n",
        "            lloss.append(closs.item())\n",
        "            res  = pred.argmax(dim=1).cpu().tolist()\n",
        "            lres += res\n",
        "            ytrue += y\n",
        "    avg_loss_eval = np.mean(lloss)\n",
        "    loss_eval.append(avg_loss_eval)\n",
        "    #wandb.log({\"loss_eval\": avg_loss_eval,\"loss_train\":loss_train[-1]})\n",
        "    if avg_loss_eval < lowest_loss_eval:\n",
        "        lowest_loss_eval = avg_loss_eval \n",
        "        last_best_result = 0\n",
        "        print(\"Best regnetX found! saving...\")\n",
        "        actual_state = {'optRim':optR.state_dict(),'regnetX':regnetX.state_dict(),'epoch':epoch,'loss_train':loss_train,'loss_eval':loss_eval}\n",
        "        torch.save(actual_state,'best_regnetX.pth')\n",
        "    last_best_result += 1\n",
        "    if last_best_result > patience_time:\n",
        "        stop = True\n",
        "    print(\"epoch %d loss_train %4.3f loss_eval %4.3f last_best %d\"%(epoch,loss_train[-1],loss_eval[-1],last_best_result))\n",
        "    epoch += 1"
      ],
      "metadata": {
        "id": "guoQOqTZknBu"
      },
      "execution_count": null,
      "outputs": []
    },
    {
      "cell_type": "markdown",
      "source": [
        "# Treinamento EfficientNet\n"
      ],
      "metadata": {
        "id": "MnG_9lngi5OE"
      }
    },
    {
      "cell_type": "markdown",
      "source": [
        "Inicialização"
      ],
      "metadata": {
        "id": "J47eY3WxjIcj"
      }
    },
    {
      "cell_type": "code",
      "source": [
        "ds=dataset_EfficientNet"
      ],
      "metadata": {
        "id": "WxC0Joo0jIck"
      },
      "execution_count": null,
      "outputs": []
    },
    {
      "cell_type": "markdown",
      "source": [
        "Divisão de conjunto de treino, teste e validação"
      ],
      "metadata": {
        "id": "wyCk1L_bjIck"
      }
    },
    {
      "cell_type": "code",
      "source": [
        "bs = 16\n",
        "train_idx, temp_idx = train_test_split(np.arange(len(ds)),test_size=0.3,shuffle=True,stratify=ds.targets)\n",
        "valid_idx, test_idx = train_test_split(temp_idx,test_size=0.5,shuffle=True,stratify=ds.targets[temp_idx])\n",
        " \n",
        "train_sampler = torch.utils.data.SubsetRandomSampler(train_idx)\n",
        "valid_sampler = torch.utils.data.SubsetRandomSampler(valid_idx)\n",
        "test_sampler  = torch.utils.data.SubsetRandomSampler(test_idx)\n",
        " \n",
        "dl_train = torch.utils.data.DataLoader(ds,batch_size=bs,sampler=train_sampler)\n",
        "dl_valid = torch.utils.data.DataLoader(ds,batch_size=bs,sampler=valid_sampler)\n",
        "dl_test  = torch.utils.data.DataLoader(ds,batch_size=bs,sampler=test_sampler)"
      ],
      "metadata": {
        "id": "MHuas22EjIcl"
      },
      "execution_count": null,
      "outputs": []
    },
    {
      "cell_type": "markdown",
      "source": [
        "Jogando o modelo para o *device* disponível"
      ],
      "metadata": {
        "id": "n-paPHNVjIcl"
      }
    },
    {
      "cell_type": "code",
      "source": [
        "device = torch.device('cuda:0') if torch.cuda.is_available() else torch.device('cpu')\n",
        "efficientNet.to(device)"
      ],
      "metadata": {
        "colab": {
          "base_uri": "https://localhost:8080/"
        },
        "outputId": "a97d89e7-f6bb-4c44-8a09-89cdd6cce832",
        "id": "UO3kJF53jIcl"
      },
      "execution_count": null,
      "outputs": [
        {
          "output_type": "execute_result",
          "data": {
            "text/plain": [
              "EfficientNet(\n",
              "  (features): Sequential(\n",
              "    (0): Conv2dNormActivation(\n",
              "      (0): Conv2d(3, 32, kernel_size=(3, 3), stride=(2, 2), padding=(1, 1), bias=False)\n",
              "      (1): BatchNorm2d(32, eps=1e-05, momentum=0.1, affine=True, track_running_stats=True)\n",
              "      (2): SiLU(inplace=True)\n",
              "    )\n",
              "    (1): Sequential(\n",
              "      (0): MBConv(\n",
              "        (block): Sequential(\n",
              "          (0): Conv2dNormActivation(\n",
              "            (0): Conv2d(32, 32, kernel_size=(3, 3), stride=(1, 1), padding=(1, 1), groups=32, bias=False)\n",
              "            (1): BatchNorm2d(32, eps=1e-05, momentum=0.1, affine=True, track_running_stats=True)\n",
              "            (2): SiLU(inplace=True)\n",
              "          )\n",
              "          (1): SqueezeExcitation(\n",
              "            (avgpool): AdaptiveAvgPool2d(output_size=1)\n",
              "            (fc1): Conv2d(32, 8, kernel_size=(1, 1), stride=(1, 1))\n",
              "            (fc2): Conv2d(8, 32, kernel_size=(1, 1), stride=(1, 1))\n",
              "            (activation): SiLU(inplace=True)\n",
              "            (scale_activation): Sigmoid()\n",
              "          )\n",
              "          (2): Conv2dNormActivation(\n",
              "            (0): Conv2d(32, 16, kernel_size=(1, 1), stride=(1, 1), bias=False)\n",
              "            (1): BatchNorm2d(16, eps=1e-05, momentum=0.1, affine=True, track_running_stats=True)\n",
              "          )\n",
              "        )\n",
              "        (stochastic_depth): StochasticDepth(p=0.0, mode=row)\n",
              "      )\n",
              "      (1): MBConv(\n",
              "        (block): Sequential(\n",
              "          (0): Conv2dNormActivation(\n",
              "            (0): Conv2d(16, 16, kernel_size=(3, 3), stride=(1, 1), padding=(1, 1), groups=16, bias=False)\n",
              "            (1): BatchNorm2d(16, eps=1e-05, momentum=0.1, affine=True, track_running_stats=True)\n",
              "            (2): SiLU(inplace=True)\n",
              "          )\n",
              "          (1): SqueezeExcitation(\n",
              "            (avgpool): AdaptiveAvgPool2d(output_size=1)\n",
              "            (fc1): Conv2d(16, 4, kernel_size=(1, 1), stride=(1, 1))\n",
              "            (fc2): Conv2d(4, 16, kernel_size=(1, 1), stride=(1, 1))\n",
              "            (activation): SiLU(inplace=True)\n",
              "            (scale_activation): Sigmoid()\n",
              "          )\n",
              "          (2): Conv2dNormActivation(\n",
              "            (0): Conv2d(16, 16, kernel_size=(1, 1), stride=(1, 1), bias=False)\n",
              "            (1): BatchNorm2d(16, eps=1e-05, momentum=0.1, affine=True, track_running_stats=True)\n",
              "          )\n",
              "        )\n",
              "        (stochastic_depth): StochasticDepth(p=0.008695652173913044, mode=row)\n",
              "      )\n",
              "    )\n",
              "    (2): Sequential(\n",
              "      (0): MBConv(\n",
              "        (block): Sequential(\n",
              "          (0): Conv2dNormActivation(\n",
              "            (0): Conv2d(16, 96, kernel_size=(1, 1), stride=(1, 1), bias=False)\n",
              "            (1): BatchNorm2d(96, eps=1e-05, momentum=0.1, affine=True, track_running_stats=True)\n",
              "            (2): SiLU(inplace=True)\n",
              "          )\n",
              "          (1): Conv2dNormActivation(\n",
              "            (0): Conv2d(96, 96, kernel_size=(3, 3), stride=(2, 2), padding=(1, 1), groups=96, bias=False)\n",
              "            (1): BatchNorm2d(96, eps=1e-05, momentum=0.1, affine=True, track_running_stats=True)\n",
              "            (2): SiLU(inplace=True)\n",
              "          )\n",
              "          (2): SqueezeExcitation(\n",
              "            (avgpool): AdaptiveAvgPool2d(output_size=1)\n",
              "            (fc1): Conv2d(96, 4, kernel_size=(1, 1), stride=(1, 1))\n",
              "            (fc2): Conv2d(4, 96, kernel_size=(1, 1), stride=(1, 1))\n",
              "            (activation): SiLU(inplace=True)\n",
              "            (scale_activation): Sigmoid()\n",
              "          )\n",
              "          (3): Conv2dNormActivation(\n",
              "            (0): Conv2d(96, 24, kernel_size=(1, 1), stride=(1, 1), bias=False)\n",
              "            (1): BatchNorm2d(24, eps=1e-05, momentum=0.1, affine=True, track_running_stats=True)\n",
              "          )\n",
              "        )\n",
              "        (stochastic_depth): StochasticDepth(p=0.017391304347826087, mode=row)\n",
              "      )\n",
              "      (1): MBConv(\n",
              "        (block): Sequential(\n",
              "          (0): Conv2dNormActivation(\n",
              "            (0): Conv2d(24, 144, kernel_size=(1, 1), stride=(1, 1), bias=False)\n",
              "            (1): BatchNorm2d(144, eps=1e-05, momentum=0.1, affine=True, track_running_stats=True)\n",
              "            (2): SiLU(inplace=True)\n",
              "          )\n",
              "          (1): Conv2dNormActivation(\n",
              "            (0): Conv2d(144, 144, kernel_size=(3, 3), stride=(1, 1), padding=(1, 1), groups=144, bias=False)\n",
              "            (1): BatchNorm2d(144, eps=1e-05, momentum=0.1, affine=True, track_running_stats=True)\n",
              "            (2): SiLU(inplace=True)\n",
              "          )\n",
              "          (2): SqueezeExcitation(\n",
              "            (avgpool): AdaptiveAvgPool2d(output_size=1)\n",
              "            (fc1): Conv2d(144, 6, kernel_size=(1, 1), stride=(1, 1))\n",
              "            (fc2): Conv2d(6, 144, kernel_size=(1, 1), stride=(1, 1))\n",
              "            (activation): SiLU(inplace=True)\n",
              "            (scale_activation): Sigmoid()\n",
              "          )\n",
              "          (3): Conv2dNormActivation(\n",
              "            (0): Conv2d(144, 24, kernel_size=(1, 1), stride=(1, 1), bias=False)\n",
              "            (1): BatchNorm2d(24, eps=1e-05, momentum=0.1, affine=True, track_running_stats=True)\n",
              "          )\n",
              "        )\n",
              "        (stochastic_depth): StochasticDepth(p=0.026086956521739136, mode=row)\n",
              "      )\n",
              "      (2): MBConv(\n",
              "        (block): Sequential(\n",
              "          (0): Conv2dNormActivation(\n",
              "            (0): Conv2d(24, 144, kernel_size=(1, 1), stride=(1, 1), bias=False)\n",
              "            (1): BatchNorm2d(144, eps=1e-05, momentum=0.1, affine=True, track_running_stats=True)\n",
              "            (2): SiLU(inplace=True)\n",
              "          )\n",
              "          (1): Conv2dNormActivation(\n",
              "            (0): Conv2d(144, 144, kernel_size=(3, 3), stride=(1, 1), padding=(1, 1), groups=144, bias=False)\n",
              "            (1): BatchNorm2d(144, eps=1e-05, momentum=0.1, affine=True, track_running_stats=True)\n",
              "            (2): SiLU(inplace=True)\n",
              "          )\n",
              "          (2): SqueezeExcitation(\n",
              "            (avgpool): AdaptiveAvgPool2d(output_size=1)\n",
              "            (fc1): Conv2d(144, 6, kernel_size=(1, 1), stride=(1, 1))\n",
              "            (fc2): Conv2d(6, 144, kernel_size=(1, 1), stride=(1, 1))\n",
              "            (activation): SiLU(inplace=True)\n",
              "            (scale_activation): Sigmoid()\n",
              "          )\n",
              "          (3): Conv2dNormActivation(\n",
              "            (0): Conv2d(144, 24, kernel_size=(1, 1), stride=(1, 1), bias=False)\n",
              "            (1): BatchNorm2d(24, eps=1e-05, momentum=0.1, affine=True, track_running_stats=True)\n",
              "          )\n",
              "        )\n",
              "        (stochastic_depth): StochasticDepth(p=0.034782608695652174, mode=row)\n",
              "      )\n",
              "    )\n",
              "    (3): Sequential(\n",
              "      (0): MBConv(\n",
              "        (block): Sequential(\n",
              "          (0): Conv2dNormActivation(\n",
              "            (0): Conv2d(24, 144, kernel_size=(1, 1), stride=(1, 1), bias=False)\n",
              "            (1): BatchNorm2d(144, eps=1e-05, momentum=0.1, affine=True, track_running_stats=True)\n",
              "            (2): SiLU(inplace=True)\n",
              "          )\n",
              "          (1): Conv2dNormActivation(\n",
              "            (0): Conv2d(144, 144, kernel_size=(5, 5), stride=(2, 2), padding=(2, 2), groups=144, bias=False)\n",
              "            (1): BatchNorm2d(144, eps=1e-05, momentum=0.1, affine=True, track_running_stats=True)\n",
              "            (2): SiLU(inplace=True)\n",
              "          )\n",
              "          (2): SqueezeExcitation(\n",
              "            (avgpool): AdaptiveAvgPool2d(output_size=1)\n",
              "            (fc1): Conv2d(144, 6, kernel_size=(1, 1), stride=(1, 1))\n",
              "            (fc2): Conv2d(6, 144, kernel_size=(1, 1), stride=(1, 1))\n",
              "            (activation): SiLU(inplace=True)\n",
              "            (scale_activation): Sigmoid()\n",
              "          )\n",
              "          (3): Conv2dNormActivation(\n",
              "            (0): Conv2d(144, 48, kernel_size=(1, 1), stride=(1, 1), bias=False)\n",
              "            (1): BatchNorm2d(48, eps=1e-05, momentum=0.1, affine=True, track_running_stats=True)\n",
              "          )\n",
              "        )\n",
              "        (stochastic_depth): StochasticDepth(p=0.043478260869565216, mode=row)\n",
              "      )\n",
              "      (1): MBConv(\n",
              "        (block): Sequential(\n",
              "          (0): Conv2dNormActivation(\n",
              "            (0): Conv2d(48, 288, kernel_size=(1, 1), stride=(1, 1), bias=False)\n",
              "            (1): BatchNorm2d(288, eps=1e-05, momentum=0.1, affine=True, track_running_stats=True)\n",
              "            (2): SiLU(inplace=True)\n",
              "          )\n",
              "          (1): Conv2dNormActivation(\n",
              "            (0): Conv2d(288, 288, kernel_size=(5, 5), stride=(1, 1), padding=(2, 2), groups=288, bias=False)\n",
              "            (1): BatchNorm2d(288, eps=1e-05, momentum=0.1, affine=True, track_running_stats=True)\n",
              "            (2): SiLU(inplace=True)\n",
              "          )\n",
              "          (2): SqueezeExcitation(\n",
              "            (avgpool): AdaptiveAvgPool2d(output_size=1)\n",
              "            (fc1): Conv2d(288, 12, kernel_size=(1, 1), stride=(1, 1))\n",
              "            (fc2): Conv2d(12, 288, kernel_size=(1, 1), stride=(1, 1))\n",
              "            (activation): SiLU(inplace=True)\n",
              "            (scale_activation): Sigmoid()\n",
              "          )\n",
              "          (3): Conv2dNormActivation(\n",
              "            (0): Conv2d(288, 48, kernel_size=(1, 1), stride=(1, 1), bias=False)\n",
              "            (1): BatchNorm2d(48, eps=1e-05, momentum=0.1, affine=True, track_running_stats=True)\n",
              "          )\n",
              "        )\n",
              "        (stochastic_depth): StochasticDepth(p=0.05217391304347827, mode=row)\n",
              "      )\n",
              "      (2): MBConv(\n",
              "        (block): Sequential(\n",
              "          (0): Conv2dNormActivation(\n",
              "            (0): Conv2d(48, 288, kernel_size=(1, 1), stride=(1, 1), bias=False)\n",
              "            (1): BatchNorm2d(288, eps=1e-05, momentum=0.1, affine=True, track_running_stats=True)\n",
              "            (2): SiLU(inplace=True)\n",
              "          )\n",
              "          (1): Conv2dNormActivation(\n",
              "            (0): Conv2d(288, 288, kernel_size=(5, 5), stride=(1, 1), padding=(2, 2), groups=288, bias=False)\n",
              "            (1): BatchNorm2d(288, eps=1e-05, momentum=0.1, affine=True, track_running_stats=True)\n",
              "            (2): SiLU(inplace=True)\n",
              "          )\n",
              "          (2): SqueezeExcitation(\n",
              "            (avgpool): AdaptiveAvgPool2d(output_size=1)\n",
              "            (fc1): Conv2d(288, 12, kernel_size=(1, 1), stride=(1, 1))\n",
              "            (fc2): Conv2d(12, 288, kernel_size=(1, 1), stride=(1, 1))\n",
              "            (activation): SiLU(inplace=True)\n",
              "            (scale_activation): Sigmoid()\n",
              "          )\n",
              "          (3): Conv2dNormActivation(\n",
              "            (0): Conv2d(288, 48, kernel_size=(1, 1), stride=(1, 1), bias=False)\n",
              "            (1): BatchNorm2d(48, eps=1e-05, momentum=0.1, affine=True, track_running_stats=True)\n",
              "          )\n",
              "        )\n",
              "        (stochastic_depth): StochasticDepth(p=0.06086956521739131, mode=row)\n",
              "      )\n",
              "    )\n",
              "    (4): Sequential(\n",
              "      (0): MBConv(\n",
              "        (block): Sequential(\n",
              "          (0): Conv2dNormActivation(\n",
              "            (0): Conv2d(48, 288, kernel_size=(1, 1), stride=(1, 1), bias=False)\n",
              "            (1): BatchNorm2d(288, eps=1e-05, momentum=0.1, affine=True, track_running_stats=True)\n",
              "            (2): SiLU(inplace=True)\n",
              "          )\n",
              "          (1): Conv2dNormActivation(\n",
              "            (0): Conv2d(288, 288, kernel_size=(3, 3), stride=(2, 2), padding=(1, 1), groups=288, bias=False)\n",
              "            (1): BatchNorm2d(288, eps=1e-05, momentum=0.1, affine=True, track_running_stats=True)\n",
              "            (2): SiLU(inplace=True)\n",
              "          )\n",
              "          (2): SqueezeExcitation(\n",
              "            (avgpool): AdaptiveAvgPool2d(output_size=1)\n",
              "            (fc1): Conv2d(288, 12, kernel_size=(1, 1), stride=(1, 1))\n",
              "            (fc2): Conv2d(12, 288, kernel_size=(1, 1), stride=(1, 1))\n",
              "            (activation): SiLU(inplace=True)\n",
              "            (scale_activation): Sigmoid()\n",
              "          )\n",
              "          (3): Conv2dNormActivation(\n",
              "            (0): Conv2d(288, 88, kernel_size=(1, 1), stride=(1, 1), bias=False)\n",
              "            (1): BatchNorm2d(88, eps=1e-05, momentum=0.1, affine=True, track_running_stats=True)\n",
              "          )\n",
              "        )\n",
              "        (stochastic_depth): StochasticDepth(p=0.06956521739130435, mode=row)\n",
              "      )\n",
              "      (1): MBConv(\n",
              "        (block): Sequential(\n",
              "          (0): Conv2dNormActivation(\n",
              "            (0): Conv2d(88, 528, kernel_size=(1, 1), stride=(1, 1), bias=False)\n",
              "            (1): BatchNorm2d(528, eps=1e-05, momentum=0.1, affine=True, track_running_stats=True)\n",
              "            (2): SiLU(inplace=True)\n",
              "          )\n",
              "          (1): Conv2dNormActivation(\n",
              "            (0): Conv2d(528, 528, kernel_size=(3, 3), stride=(1, 1), padding=(1, 1), groups=528, bias=False)\n",
              "            (1): BatchNorm2d(528, eps=1e-05, momentum=0.1, affine=True, track_running_stats=True)\n",
              "            (2): SiLU(inplace=True)\n",
              "          )\n",
              "          (2): SqueezeExcitation(\n",
              "            (avgpool): AdaptiveAvgPool2d(output_size=1)\n",
              "            (fc1): Conv2d(528, 22, kernel_size=(1, 1), stride=(1, 1))\n",
              "            (fc2): Conv2d(22, 528, kernel_size=(1, 1), stride=(1, 1))\n",
              "            (activation): SiLU(inplace=True)\n",
              "            (scale_activation): Sigmoid()\n",
              "          )\n",
              "          (3): Conv2dNormActivation(\n",
              "            (0): Conv2d(528, 88, kernel_size=(1, 1), stride=(1, 1), bias=False)\n",
              "            (1): BatchNorm2d(88, eps=1e-05, momentum=0.1, affine=True, track_running_stats=True)\n",
              "          )\n",
              "        )\n",
              "        (stochastic_depth): StochasticDepth(p=0.0782608695652174, mode=row)\n",
              "      )\n",
              "      (2): MBConv(\n",
              "        (block): Sequential(\n",
              "          (0): Conv2dNormActivation(\n",
              "            (0): Conv2d(88, 528, kernel_size=(1, 1), stride=(1, 1), bias=False)\n",
              "            (1): BatchNorm2d(528, eps=1e-05, momentum=0.1, affine=True, track_running_stats=True)\n",
              "            (2): SiLU(inplace=True)\n",
              "          )\n",
              "          (1): Conv2dNormActivation(\n",
              "            (0): Conv2d(528, 528, kernel_size=(3, 3), stride=(1, 1), padding=(1, 1), groups=528, bias=False)\n",
              "            (1): BatchNorm2d(528, eps=1e-05, momentum=0.1, affine=True, track_running_stats=True)\n",
              "            (2): SiLU(inplace=True)\n",
              "          )\n",
              "          (2): SqueezeExcitation(\n",
              "            (avgpool): AdaptiveAvgPool2d(output_size=1)\n",
              "            (fc1): Conv2d(528, 22, kernel_size=(1, 1), stride=(1, 1))\n",
              "            (fc2): Conv2d(22, 528, kernel_size=(1, 1), stride=(1, 1))\n",
              "            (activation): SiLU(inplace=True)\n",
              "            (scale_activation): Sigmoid()\n",
              "          )\n",
              "          (3): Conv2dNormActivation(\n",
              "            (0): Conv2d(528, 88, kernel_size=(1, 1), stride=(1, 1), bias=False)\n",
              "            (1): BatchNorm2d(88, eps=1e-05, momentum=0.1, affine=True, track_running_stats=True)\n",
              "          )\n",
              "        )\n",
              "        (stochastic_depth): StochasticDepth(p=0.08695652173913043, mode=row)\n",
              "      )\n",
              "      (3): MBConv(\n",
              "        (block): Sequential(\n",
              "          (0): Conv2dNormActivation(\n",
              "            (0): Conv2d(88, 528, kernel_size=(1, 1), stride=(1, 1), bias=False)\n",
              "            (1): BatchNorm2d(528, eps=1e-05, momentum=0.1, affine=True, track_running_stats=True)\n",
              "            (2): SiLU(inplace=True)\n",
              "          )\n",
              "          (1): Conv2dNormActivation(\n",
              "            (0): Conv2d(528, 528, kernel_size=(3, 3), stride=(1, 1), padding=(1, 1), groups=528, bias=False)\n",
              "            (1): BatchNorm2d(528, eps=1e-05, momentum=0.1, affine=True, track_running_stats=True)\n",
              "            (2): SiLU(inplace=True)\n",
              "          )\n",
              "          (2): SqueezeExcitation(\n",
              "            (avgpool): AdaptiveAvgPool2d(output_size=1)\n",
              "            (fc1): Conv2d(528, 22, kernel_size=(1, 1), stride=(1, 1))\n",
              "            (fc2): Conv2d(22, 528, kernel_size=(1, 1), stride=(1, 1))\n",
              "            (activation): SiLU(inplace=True)\n",
              "            (scale_activation): Sigmoid()\n",
              "          )\n",
              "          (3): Conv2dNormActivation(\n",
              "            (0): Conv2d(528, 88, kernel_size=(1, 1), stride=(1, 1), bias=False)\n",
              "            (1): BatchNorm2d(88, eps=1e-05, momentum=0.1, affine=True, track_running_stats=True)\n",
              "          )\n",
              "        )\n",
              "        (stochastic_depth): StochasticDepth(p=0.09565217391304348, mode=row)\n",
              "      )\n",
              "    )\n",
              "    (5): Sequential(\n",
              "      (0): MBConv(\n",
              "        (block): Sequential(\n",
              "          (0): Conv2dNormActivation(\n",
              "            (0): Conv2d(88, 528, kernel_size=(1, 1), stride=(1, 1), bias=False)\n",
              "            (1): BatchNorm2d(528, eps=1e-05, momentum=0.1, affine=True, track_running_stats=True)\n",
              "            (2): SiLU(inplace=True)\n",
              "          )\n",
              "          (1): Conv2dNormActivation(\n",
              "            (0): Conv2d(528, 528, kernel_size=(5, 5), stride=(1, 1), padding=(2, 2), groups=528, bias=False)\n",
              "            (1): BatchNorm2d(528, eps=1e-05, momentum=0.1, affine=True, track_running_stats=True)\n",
              "            (2): SiLU(inplace=True)\n",
              "          )\n",
              "          (2): SqueezeExcitation(\n",
              "            (avgpool): AdaptiveAvgPool2d(output_size=1)\n",
              "            (fc1): Conv2d(528, 22, kernel_size=(1, 1), stride=(1, 1))\n",
              "            (fc2): Conv2d(22, 528, kernel_size=(1, 1), stride=(1, 1))\n",
              "            (activation): SiLU(inplace=True)\n",
              "            (scale_activation): Sigmoid()\n",
              "          )\n",
              "          (3): Conv2dNormActivation(\n",
              "            (0): Conv2d(528, 120, kernel_size=(1, 1), stride=(1, 1), bias=False)\n",
              "            (1): BatchNorm2d(120, eps=1e-05, momentum=0.1, affine=True, track_running_stats=True)\n",
              "          )\n",
              "        )\n",
              "        (stochastic_depth): StochasticDepth(p=0.10434782608695654, mode=row)\n",
              "      )\n",
              "      (1): MBConv(\n",
              "        (block): Sequential(\n",
              "          (0): Conv2dNormActivation(\n",
              "            (0): Conv2d(120, 720, kernel_size=(1, 1), stride=(1, 1), bias=False)\n",
              "            (1): BatchNorm2d(720, eps=1e-05, momentum=0.1, affine=True, track_running_stats=True)\n",
              "            (2): SiLU(inplace=True)\n",
              "          )\n",
              "          (1): Conv2dNormActivation(\n",
              "            (0): Conv2d(720, 720, kernel_size=(5, 5), stride=(1, 1), padding=(2, 2), groups=720, bias=False)\n",
              "            (1): BatchNorm2d(720, eps=1e-05, momentum=0.1, affine=True, track_running_stats=True)\n",
              "            (2): SiLU(inplace=True)\n",
              "          )\n",
              "          (2): SqueezeExcitation(\n",
              "            (avgpool): AdaptiveAvgPool2d(output_size=1)\n",
              "            (fc1): Conv2d(720, 30, kernel_size=(1, 1), stride=(1, 1))\n",
              "            (fc2): Conv2d(30, 720, kernel_size=(1, 1), stride=(1, 1))\n",
              "            (activation): SiLU(inplace=True)\n",
              "            (scale_activation): Sigmoid()\n",
              "          )\n",
              "          (3): Conv2dNormActivation(\n",
              "            (0): Conv2d(720, 120, kernel_size=(1, 1), stride=(1, 1), bias=False)\n",
              "            (1): BatchNorm2d(120, eps=1e-05, momentum=0.1, affine=True, track_running_stats=True)\n",
              "          )\n",
              "        )\n",
              "        (stochastic_depth): StochasticDepth(p=0.11304347826086956, mode=row)\n",
              "      )\n",
              "      (2): MBConv(\n",
              "        (block): Sequential(\n",
              "          (0): Conv2dNormActivation(\n",
              "            (0): Conv2d(120, 720, kernel_size=(1, 1), stride=(1, 1), bias=False)\n",
              "            (1): BatchNorm2d(720, eps=1e-05, momentum=0.1, affine=True, track_running_stats=True)\n",
              "            (2): SiLU(inplace=True)\n",
              "          )\n",
              "          (1): Conv2dNormActivation(\n",
              "            (0): Conv2d(720, 720, kernel_size=(5, 5), stride=(1, 1), padding=(2, 2), groups=720, bias=False)\n",
              "            (1): BatchNorm2d(720, eps=1e-05, momentum=0.1, affine=True, track_running_stats=True)\n",
              "            (2): SiLU(inplace=True)\n",
              "          )\n",
              "          (2): SqueezeExcitation(\n",
              "            (avgpool): AdaptiveAvgPool2d(output_size=1)\n",
              "            (fc1): Conv2d(720, 30, kernel_size=(1, 1), stride=(1, 1))\n",
              "            (fc2): Conv2d(30, 720, kernel_size=(1, 1), stride=(1, 1))\n",
              "            (activation): SiLU(inplace=True)\n",
              "            (scale_activation): Sigmoid()\n",
              "          )\n",
              "          (3): Conv2dNormActivation(\n",
              "            (0): Conv2d(720, 120, kernel_size=(1, 1), stride=(1, 1), bias=False)\n",
              "            (1): BatchNorm2d(120, eps=1e-05, momentum=0.1, affine=True, track_running_stats=True)\n",
              "          )\n",
              "        )\n",
              "        (stochastic_depth): StochasticDepth(p=0.12173913043478261, mode=row)\n",
              "      )\n",
              "      (3): MBConv(\n",
              "        (block): Sequential(\n",
              "          (0): Conv2dNormActivation(\n",
              "            (0): Conv2d(120, 720, kernel_size=(1, 1), stride=(1, 1), bias=False)\n",
              "            (1): BatchNorm2d(720, eps=1e-05, momentum=0.1, affine=True, track_running_stats=True)\n",
              "            (2): SiLU(inplace=True)\n",
              "          )\n",
              "          (1): Conv2dNormActivation(\n",
              "            (0): Conv2d(720, 720, kernel_size=(5, 5), stride=(1, 1), padding=(2, 2), groups=720, bias=False)\n",
              "            (1): BatchNorm2d(720, eps=1e-05, momentum=0.1, affine=True, track_running_stats=True)\n",
              "            (2): SiLU(inplace=True)\n",
              "          )\n",
              "          (2): SqueezeExcitation(\n",
              "            (avgpool): AdaptiveAvgPool2d(output_size=1)\n",
              "            (fc1): Conv2d(720, 30, kernel_size=(1, 1), stride=(1, 1))\n",
              "            (fc2): Conv2d(30, 720, kernel_size=(1, 1), stride=(1, 1))\n",
              "            (activation): SiLU(inplace=True)\n",
              "            (scale_activation): Sigmoid()\n",
              "          )\n",
              "          (3): Conv2dNormActivation(\n",
              "            (0): Conv2d(720, 120, kernel_size=(1, 1), stride=(1, 1), bias=False)\n",
              "            (1): BatchNorm2d(120, eps=1e-05, momentum=0.1, affine=True, track_running_stats=True)\n",
              "          )\n",
              "        )\n",
              "        (stochastic_depth): StochasticDepth(p=0.13043478260869565, mode=row)\n",
              "      )\n",
              "    )\n",
              "    (6): Sequential(\n",
              "      (0): MBConv(\n",
              "        (block): Sequential(\n",
              "          (0): Conv2dNormActivation(\n",
              "            (0): Conv2d(120, 720, kernel_size=(1, 1), stride=(1, 1), bias=False)\n",
              "            (1): BatchNorm2d(720, eps=1e-05, momentum=0.1, affine=True, track_running_stats=True)\n",
              "            (2): SiLU(inplace=True)\n",
              "          )\n",
              "          (1): Conv2dNormActivation(\n",
              "            (0): Conv2d(720, 720, kernel_size=(5, 5), stride=(2, 2), padding=(2, 2), groups=720, bias=False)\n",
              "            (1): BatchNorm2d(720, eps=1e-05, momentum=0.1, affine=True, track_running_stats=True)\n",
              "            (2): SiLU(inplace=True)\n",
              "          )\n",
              "          (2): SqueezeExcitation(\n",
              "            (avgpool): AdaptiveAvgPool2d(output_size=1)\n",
              "            (fc1): Conv2d(720, 30, kernel_size=(1, 1), stride=(1, 1))\n",
              "            (fc2): Conv2d(30, 720, kernel_size=(1, 1), stride=(1, 1))\n",
              "            (activation): SiLU(inplace=True)\n",
              "            (scale_activation): Sigmoid()\n",
              "          )\n",
              "          (3): Conv2dNormActivation(\n",
              "            (0): Conv2d(720, 208, kernel_size=(1, 1), stride=(1, 1), bias=False)\n",
              "            (1): BatchNorm2d(208, eps=1e-05, momentum=0.1, affine=True, track_running_stats=True)\n",
              "          )\n",
              "        )\n",
              "        (stochastic_depth): StochasticDepth(p=0.1391304347826087, mode=row)\n",
              "      )\n",
              "      (1): MBConv(\n",
              "        (block): Sequential(\n",
              "          (0): Conv2dNormActivation(\n",
              "            (0): Conv2d(208, 1248, kernel_size=(1, 1), stride=(1, 1), bias=False)\n",
              "            (1): BatchNorm2d(1248, eps=1e-05, momentum=0.1, affine=True, track_running_stats=True)\n",
              "            (2): SiLU(inplace=True)\n",
              "          )\n",
              "          (1): Conv2dNormActivation(\n",
              "            (0): Conv2d(1248, 1248, kernel_size=(5, 5), stride=(1, 1), padding=(2, 2), groups=1248, bias=False)\n",
              "            (1): BatchNorm2d(1248, eps=1e-05, momentum=0.1, affine=True, track_running_stats=True)\n",
              "            (2): SiLU(inplace=True)\n",
              "          )\n",
              "          (2): SqueezeExcitation(\n",
              "            (avgpool): AdaptiveAvgPool2d(output_size=1)\n",
              "            (fc1): Conv2d(1248, 52, kernel_size=(1, 1), stride=(1, 1))\n",
              "            (fc2): Conv2d(52, 1248, kernel_size=(1, 1), stride=(1, 1))\n",
              "            (activation): SiLU(inplace=True)\n",
              "            (scale_activation): Sigmoid()\n",
              "          )\n",
              "          (3): Conv2dNormActivation(\n",
              "            (0): Conv2d(1248, 208, kernel_size=(1, 1), stride=(1, 1), bias=False)\n",
              "            (1): BatchNorm2d(208, eps=1e-05, momentum=0.1, affine=True, track_running_stats=True)\n",
              "          )\n",
              "        )\n",
              "        (stochastic_depth): StochasticDepth(p=0.14782608695652175, mode=row)\n",
              "      )\n",
              "      (2): MBConv(\n",
              "        (block): Sequential(\n",
              "          (0): Conv2dNormActivation(\n",
              "            (0): Conv2d(208, 1248, kernel_size=(1, 1), stride=(1, 1), bias=False)\n",
              "            (1): BatchNorm2d(1248, eps=1e-05, momentum=0.1, affine=True, track_running_stats=True)\n",
              "            (2): SiLU(inplace=True)\n",
              "          )\n",
              "          (1): Conv2dNormActivation(\n",
              "            (0): Conv2d(1248, 1248, kernel_size=(5, 5), stride=(1, 1), padding=(2, 2), groups=1248, bias=False)\n",
              "            (1): BatchNorm2d(1248, eps=1e-05, momentum=0.1, affine=True, track_running_stats=True)\n",
              "            (2): SiLU(inplace=True)\n",
              "          )\n",
              "          (2): SqueezeExcitation(\n",
              "            (avgpool): AdaptiveAvgPool2d(output_size=1)\n",
              "            (fc1): Conv2d(1248, 52, kernel_size=(1, 1), stride=(1, 1))\n",
              "            (fc2): Conv2d(52, 1248, kernel_size=(1, 1), stride=(1, 1))\n",
              "            (activation): SiLU(inplace=True)\n",
              "            (scale_activation): Sigmoid()\n",
              "          )\n",
              "          (3): Conv2dNormActivation(\n",
              "            (0): Conv2d(1248, 208, kernel_size=(1, 1), stride=(1, 1), bias=False)\n",
              "            (1): BatchNorm2d(208, eps=1e-05, momentum=0.1, affine=True, track_running_stats=True)\n",
              "          )\n",
              "        )\n",
              "        (stochastic_depth): StochasticDepth(p=0.1565217391304348, mode=row)\n",
              "      )\n",
              "      (3): MBConv(\n",
              "        (block): Sequential(\n",
              "          (0): Conv2dNormActivation(\n",
              "            (0): Conv2d(208, 1248, kernel_size=(1, 1), stride=(1, 1), bias=False)\n",
              "            (1): BatchNorm2d(1248, eps=1e-05, momentum=0.1, affine=True, track_running_stats=True)\n",
              "            (2): SiLU(inplace=True)\n",
              "          )\n",
              "          (1): Conv2dNormActivation(\n",
              "            (0): Conv2d(1248, 1248, kernel_size=(5, 5), stride=(1, 1), padding=(2, 2), groups=1248, bias=False)\n",
              "            (1): BatchNorm2d(1248, eps=1e-05, momentum=0.1, affine=True, track_running_stats=True)\n",
              "            (2): SiLU(inplace=True)\n",
              "          )\n",
              "          (2): SqueezeExcitation(\n",
              "            (avgpool): AdaptiveAvgPool2d(output_size=1)\n",
              "            (fc1): Conv2d(1248, 52, kernel_size=(1, 1), stride=(1, 1))\n",
              "            (fc2): Conv2d(52, 1248, kernel_size=(1, 1), stride=(1, 1))\n",
              "            (activation): SiLU(inplace=True)\n",
              "            (scale_activation): Sigmoid()\n",
              "          )\n",
              "          (3): Conv2dNormActivation(\n",
              "            (0): Conv2d(1248, 208, kernel_size=(1, 1), stride=(1, 1), bias=False)\n",
              "            (1): BatchNorm2d(208, eps=1e-05, momentum=0.1, affine=True, track_running_stats=True)\n",
              "          )\n",
              "        )\n",
              "        (stochastic_depth): StochasticDepth(p=0.16521739130434784, mode=row)\n",
              "      )\n",
              "      (4): MBConv(\n",
              "        (block): Sequential(\n",
              "          (0): Conv2dNormActivation(\n",
              "            (0): Conv2d(208, 1248, kernel_size=(1, 1), stride=(1, 1), bias=False)\n",
              "            (1): BatchNorm2d(1248, eps=1e-05, momentum=0.1, affine=True, track_running_stats=True)\n",
              "            (2): SiLU(inplace=True)\n",
              "          )\n",
              "          (1): Conv2dNormActivation(\n",
              "            (0): Conv2d(1248, 1248, kernel_size=(5, 5), stride=(1, 1), padding=(2, 2), groups=1248, bias=False)\n",
              "            (1): BatchNorm2d(1248, eps=1e-05, momentum=0.1, affine=True, track_running_stats=True)\n",
              "            (2): SiLU(inplace=True)\n",
              "          )\n",
              "          (2): SqueezeExcitation(\n",
              "            (avgpool): AdaptiveAvgPool2d(output_size=1)\n",
              "            (fc1): Conv2d(1248, 52, kernel_size=(1, 1), stride=(1, 1))\n",
              "            (fc2): Conv2d(52, 1248, kernel_size=(1, 1), stride=(1, 1))\n",
              "            (activation): SiLU(inplace=True)\n",
              "            (scale_activation): Sigmoid()\n",
              "          )\n",
              "          (3): Conv2dNormActivation(\n",
              "            (0): Conv2d(1248, 208, kernel_size=(1, 1), stride=(1, 1), bias=False)\n",
              "            (1): BatchNorm2d(208, eps=1e-05, momentum=0.1, affine=True, track_running_stats=True)\n",
              "          )\n",
              "        )\n",
              "        (stochastic_depth): StochasticDepth(p=0.17391304347826086, mode=row)\n",
              "      )\n",
              "    )\n",
              "    (7): Sequential(\n",
              "      (0): MBConv(\n",
              "        (block): Sequential(\n",
              "          (0): Conv2dNormActivation(\n",
              "            (0): Conv2d(208, 1248, kernel_size=(1, 1), stride=(1, 1), bias=False)\n",
              "            (1): BatchNorm2d(1248, eps=1e-05, momentum=0.1, affine=True, track_running_stats=True)\n",
              "            (2): SiLU(inplace=True)\n",
              "          )\n",
              "          (1): Conv2dNormActivation(\n",
              "            (0): Conv2d(1248, 1248, kernel_size=(3, 3), stride=(1, 1), padding=(1, 1), groups=1248, bias=False)\n",
              "            (1): BatchNorm2d(1248, eps=1e-05, momentum=0.1, affine=True, track_running_stats=True)\n",
              "            (2): SiLU(inplace=True)\n",
              "          )\n",
              "          (2): SqueezeExcitation(\n",
              "            (avgpool): AdaptiveAvgPool2d(output_size=1)\n",
              "            (fc1): Conv2d(1248, 52, kernel_size=(1, 1), stride=(1, 1))\n",
              "            (fc2): Conv2d(52, 1248, kernel_size=(1, 1), stride=(1, 1))\n",
              "            (activation): SiLU(inplace=True)\n",
              "            (scale_activation): Sigmoid()\n",
              "          )\n",
              "          (3): Conv2dNormActivation(\n",
              "            (0): Conv2d(1248, 352, kernel_size=(1, 1), stride=(1, 1), bias=False)\n",
              "            (1): BatchNorm2d(352, eps=1e-05, momentum=0.1, affine=True, track_running_stats=True)\n",
              "          )\n",
              "        )\n",
              "        (stochastic_depth): StochasticDepth(p=0.1826086956521739, mode=row)\n",
              "      )\n",
              "      (1): MBConv(\n",
              "        (block): Sequential(\n",
              "          (0): Conv2dNormActivation(\n",
              "            (0): Conv2d(352, 2112, kernel_size=(1, 1), stride=(1, 1), bias=False)\n",
              "            (1): BatchNorm2d(2112, eps=1e-05, momentum=0.1, affine=True, track_running_stats=True)\n",
              "            (2): SiLU(inplace=True)\n",
              "          )\n",
              "          (1): Conv2dNormActivation(\n",
              "            (0): Conv2d(2112, 2112, kernel_size=(3, 3), stride=(1, 1), padding=(1, 1), groups=2112, bias=False)\n",
              "            (1): BatchNorm2d(2112, eps=1e-05, momentum=0.1, affine=True, track_running_stats=True)\n",
              "            (2): SiLU(inplace=True)\n",
              "          )\n",
              "          (2): SqueezeExcitation(\n",
              "            (avgpool): AdaptiveAvgPool2d(output_size=1)\n",
              "            (fc1): Conv2d(2112, 88, kernel_size=(1, 1), stride=(1, 1))\n",
              "            (fc2): Conv2d(88, 2112, kernel_size=(1, 1), stride=(1, 1))\n",
              "            (activation): SiLU(inplace=True)\n",
              "            (scale_activation): Sigmoid()\n",
              "          )\n",
              "          (3): Conv2dNormActivation(\n",
              "            (0): Conv2d(2112, 352, kernel_size=(1, 1), stride=(1, 1), bias=False)\n",
              "            (1): BatchNorm2d(352, eps=1e-05, momentum=0.1, affine=True, track_running_stats=True)\n",
              "          )\n",
              "        )\n",
              "        (stochastic_depth): StochasticDepth(p=0.19130434782608696, mode=row)\n",
              "      )\n",
              "    )\n",
              "    (8): Conv2dNormActivation(\n",
              "      (0): Conv2d(352, 1408, kernel_size=(1, 1), stride=(1, 1), bias=False)\n",
              "      (1): BatchNorm2d(1408, eps=1e-05, momentum=0.1, affine=True, track_running_stats=True)\n",
              "      (2): SiLU(inplace=True)\n",
              "    )\n",
              "  )\n",
              "  (avgpool): AdaptiveAvgPool2d(output_size=1)\n",
              "  (classifier): Sequential(\n",
              "    (0): Dropout(p=0.3, inplace=True)\n",
              "    (1): Linear(in_features=1408, out_features=20, bias=True)\n",
              "  )\n",
              ")"
            ]
          },
          "metadata": {},
          "execution_count": 17
        }
      ]
    },
    {
      "cell_type": "markdown",
      "source": [
        "Algumas informações relacionados a GPU adquirida"
      ],
      "metadata": {
        "id": "JAV3ine7jIcm"
      }
    },
    {
      "cell_type": "code",
      "source": [
        "if torch.cuda.is_available():\n",
        "  torch.cuda.get_device_properties(0)"
      ],
      "metadata": {
        "id": "QMdFql-9jIcn"
      },
      "execution_count": null,
      "outputs": []
    },
    {
      "cell_type": "markdown",
      "source": [
        "Establecimento de parâmetros para o treino"
      ],
      "metadata": {
        "id": "Y4zfthRJjIcn"
      }
    },
    {
      "cell_type": "code",
      "source": [
        "loss_train = []\n",
        "loss_eval  = []\n",
        "patience_time = 15\n",
        "criterion = nn.CrossEntropyLoss()\n",
        "optE = optim.SGD(efficientNet.parameters(),lr=0.001)\n",
        "# regnetX.to(device)\n"
      ],
      "metadata": {
        "id": "YWdA0854jIcn"
      },
      "execution_count": null,
      "outputs": []
    },
    {
      "cell_type": "markdown",
      "source": [
        "Treinamento"
      ],
      "metadata": {
        "id": "Eq6yKgqCjIcn"
      }
    },
    {
      "cell_type": "code",
      "source": [
        "epochs = 100\n",
        "\n",
        "stop = False\n",
        "epoch = 0\n",
        "lowest_loss_eval = 10000\n",
        "last_best_result = 0\n",
        "while (not stop):\n",
        "    #wandb.watch(efficientNet)\n",
        "    efficientNet.train()\n",
        "    lloss = []\n",
        "    for x,y in dl_train:\n",
        "        x = x.to(device)\n",
        "        y = y.to(device)\n",
        "        pred = efficientNet(x)\n",
        "        closs = criterion(pred,y)\n",
        "        closs.backward()\n",
        "        optE.step()\n",
        "        optE.zero_grad()\n",
        "        lloss.append(closs.item())\n",
        "        #print(closs.item())\n",
        "    loss_train.append(np.mean(lloss))\n",
        "    lloss = []\n",
        "    efficientNet.eval()\n",
        "    lres = []\n",
        "    ytrue = []\n",
        "    with torch.no_grad():\n",
        "        for data,y in dl_valid:\n",
        "            data = data.to(device)\n",
        "            pred = efficientNet(data)\n",
        "            closs = criterion(pred.cpu(),y)\n",
        "            lloss.append(closs.item())\n",
        "            res  = pred.argmax(dim=1).cpu().tolist()\n",
        "            lres += res\n",
        "            ytrue += y\n",
        "    avg_loss_eval = np.mean(lloss)\n",
        "    loss_eval.append(avg_loss_eval)\n",
        "    #wandb.log({\"loss_eval\": avg_loss_eval,\"loss_train\":loss_train[-1]})\n",
        "    if avg_loss_eval < lowest_loss_eval:\n",
        "        lowest_loss_eval = avg_loss_eval \n",
        "        last_best_result = 0\n",
        "        print(\"Best efficientNet found! saving...\")\n",
        "        actual_state = {'optEim':optE.state_dict(),'efficientNet':efficientNet.state_dict(),'epoch':epoch,'loss_train':loss_train,'loss_eval':loss_eval}\n",
        "        torch.save(actual_state,'best_efficientNet.pth')\n",
        "    last_best_result += 1\n",
        "    if last_best_result > patience_time:\n",
        "        stop = True\n",
        "    print(\"epoch %d loss_train %4.3f loss_eval %4.3f last_best %d\"%(epoch,loss_train[-1],loss_eval[-1],last_best_result))\n",
        "    epoch += 1"
      ],
      "metadata": {
        "id": "JCzXxKk-jIco"
      },
      "execution_count": null,
      "outputs": []
    },
    {
      "cell_type": "markdown",
      "source": [
        "# Treinamento ShuffleNet\n"
      ],
      "metadata": {
        "id": "FVTLl89oi8LU"
      }
    },
    {
      "cell_type": "markdown",
      "source": [
        "Inicialização"
      ],
      "metadata": {
        "id": "0MY1iKKcjF5z"
      }
    },
    {
      "cell_type": "code",
      "source": [
        "ds=datasetRegNet_ShuffleNet"
      ],
      "metadata": {
        "id": "qnrng-TEjF50"
      },
      "execution_count": null,
      "outputs": []
    },
    {
      "cell_type": "markdown",
      "source": [
        "Divisão de conjunto de treino, teste e validação"
      ],
      "metadata": {
        "id": "MlUgRy4HjF53"
      }
    },
    {
      "cell_type": "code",
      "source": [
        "bs = 16\n",
        "train_idx, temp_idx = train_test_split(np.arange(len(ds)),test_size=0.3,shuffle=True,stratify=ds.targets)\n",
        "valid_idx, test_idx = train_test_split(temp_idx,test_size=0.5,shuffle=True,stratify=ds.targets[temp_idx])\n",
        " \n",
        "train_sampler = torch.utils.data.SubsetRandomSampler(train_idx)\n",
        "valid_sampler = torch.utils.data.SubsetRandomSampler(valid_idx)\n",
        "test_sampler  = torch.utils.data.SubsetRandomSampler(test_idx)\n",
        " \n",
        "dl_train = torch.utils.data.DataLoader(ds,batch_size=bs,sampler=train_sampler)\n",
        "dl_valid = torch.utils.data.DataLoader(ds,batch_size=bs,sampler=valid_sampler)\n",
        "dl_test  = torch.utils.data.DataLoader(ds,batch_size=bs,sampler=test_sampler)"
      ],
      "metadata": {
        "id": "Tb6bn0P2jF53"
      },
      "execution_count": null,
      "outputs": []
    },
    {
      "cell_type": "markdown",
      "source": [
        "Jogando o modelo para o *device* disponível"
      ],
      "metadata": {
        "id": "eR1tkZB-jF55"
      }
    },
    {
      "cell_type": "code",
      "source": [
        "device = torch.device('cuda:0') if torch.cuda.is_available() else torch.device('cpu')\n",
        "shuffleNet.to(device)"
      ],
      "metadata": {
        "colab": {
          "base_uri": "https://localhost:8080/"
        },
        "outputId": "9322a3d0-c3d3-43f2-ea30-e1883f73e5ab",
        "id": "3VmxHqEqjF56"
      },
      "execution_count": null,
      "outputs": [
        {
          "output_type": "execute_result",
          "data": {
            "text/plain": [
              "ShuffleNetV2(\n",
              "  (conv1): Sequential(\n",
              "    (0): Conv2d(3, 24, kernel_size=(3, 3), stride=(2, 2), padding=(1, 1), bias=False)\n",
              "    (1): BatchNorm2d(24, eps=1e-05, momentum=0.1, affine=True, track_running_stats=True)\n",
              "    (2): ReLU(inplace=True)\n",
              "  )\n",
              "  (maxpool): MaxPool2d(kernel_size=3, stride=2, padding=1, dilation=1, ceil_mode=False)\n",
              "  (stage2): Sequential(\n",
              "    (0): InvertedResidual(\n",
              "      (branch1): Sequential(\n",
              "        (0): Conv2d(24, 24, kernel_size=(3, 3), stride=(2, 2), padding=(1, 1), groups=24, bias=False)\n",
              "        (1): BatchNorm2d(24, eps=1e-05, momentum=0.1, affine=True, track_running_stats=True)\n",
              "        (2): Conv2d(24, 122, kernel_size=(1, 1), stride=(1, 1), bias=False)\n",
              "        (3): BatchNorm2d(122, eps=1e-05, momentum=0.1, affine=True, track_running_stats=True)\n",
              "        (4): ReLU(inplace=True)\n",
              "      )\n",
              "      (branch2): Sequential(\n",
              "        (0): Conv2d(24, 122, kernel_size=(1, 1), stride=(1, 1), bias=False)\n",
              "        (1): BatchNorm2d(122, eps=1e-05, momentum=0.1, affine=True, track_running_stats=True)\n",
              "        (2): ReLU(inplace=True)\n",
              "        (3): Conv2d(122, 122, kernel_size=(3, 3), stride=(2, 2), padding=(1, 1), groups=122, bias=False)\n",
              "        (4): BatchNorm2d(122, eps=1e-05, momentum=0.1, affine=True, track_running_stats=True)\n",
              "        (5): Conv2d(122, 122, kernel_size=(1, 1), stride=(1, 1), bias=False)\n",
              "        (6): BatchNorm2d(122, eps=1e-05, momentum=0.1, affine=True, track_running_stats=True)\n",
              "        (7): ReLU(inplace=True)\n",
              "      )\n",
              "    )\n",
              "    (1): InvertedResidual(\n",
              "      (branch1): Sequential()\n",
              "      (branch2): Sequential(\n",
              "        (0): Conv2d(122, 122, kernel_size=(1, 1), stride=(1, 1), bias=False)\n",
              "        (1): BatchNorm2d(122, eps=1e-05, momentum=0.1, affine=True, track_running_stats=True)\n",
              "        (2): ReLU(inplace=True)\n",
              "        (3): Conv2d(122, 122, kernel_size=(3, 3), stride=(1, 1), padding=(1, 1), groups=122, bias=False)\n",
              "        (4): BatchNorm2d(122, eps=1e-05, momentum=0.1, affine=True, track_running_stats=True)\n",
              "        (5): Conv2d(122, 122, kernel_size=(1, 1), stride=(1, 1), bias=False)\n",
              "        (6): BatchNorm2d(122, eps=1e-05, momentum=0.1, affine=True, track_running_stats=True)\n",
              "        (7): ReLU(inplace=True)\n",
              "      )\n",
              "    )\n",
              "    (2): InvertedResidual(\n",
              "      (branch1): Sequential()\n",
              "      (branch2): Sequential(\n",
              "        (0): Conv2d(122, 122, kernel_size=(1, 1), stride=(1, 1), bias=False)\n",
              "        (1): BatchNorm2d(122, eps=1e-05, momentum=0.1, affine=True, track_running_stats=True)\n",
              "        (2): ReLU(inplace=True)\n",
              "        (3): Conv2d(122, 122, kernel_size=(3, 3), stride=(1, 1), padding=(1, 1), groups=122, bias=False)\n",
              "        (4): BatchNorm2d(122, eps=1e-05, momentum=0.1, affine=True, track_running_stats=True)\n",
              "        (5): Conv2d(122, 122, kernel_size=(1, 1), stride=(1, 1), bias=False)\n",
              "        (6): BatchNorm2d(122, eps=1e-05, momentum=0.1, affine=True, track_running_stats=True)\n",
              "        (7): ReLU(inplace=True)\n",
              "      )\n",
              "    )\n",
              "    (3): InvertedResidual(\n",
              "      (branch1): Sequential()\n",
              "      (branch2): Sequential(\n",
              "        (0): Conv2d(122, 122, kernel_size=(1, 1), stride=(1, 1), bias=False)\n",
              "        (1): BatchNorm2d(122, eps=1e-05, momentum=0.1, affine=True, track_running_stats=True)\n",
              "        (2): ReLU(inplace=True)\n",
              "        (3): Conv2d(122, 122, kernel_size=(3, 3), stride=(1, 1), padding=(1, 1), groups=122, bias=False)\n",
              "        (4): BatchNorm2d(122, eps=1e-05, momentum=0.1, affine=True, track_running_stats=True)\n",
              "        (5): Conv2d(122, 122, kernel_size=(1, 1), stride=(1, 1), bias=False)\n",
              "        (6): BatchNorm2d(122, eps=1e-05, momentum=0.1, affine=True, track_running_stats=True)\n",
              "        (7): ReLU(inplace=True)\n",
              "      )\n",
              "    )\n",
              "  )\n",
              "  (stage3): Sequential(\n",
              "    (0): InvertedResidual(\n",
              "      (branch1): Sequential(\n",
              "        (0): Conv2d(244, 244, kernel_size=(3, 3), stride=(2, 2), padding=(1, 1), groups=244, bias=False)\n",
              "        (1): BatchNorm2d(244, eps=1e-05, momentum=0.1, affine=True, track_running_stats=True)\n",
              "        (2): Conv2d(244, 244, kernel_size=(1, 1), stride=(1, 1), bias=False)\n",
              "        (3): BatchNorm2d(244, eps=1e-05, momentum=0.1, affine=True, track_running_stats=True)\n",
              "        (4): ReLU(inplace=True)\n",
              "      )\n",
              "      (branch2): Sequential(\n",
              "        (0): Conv2d(244, 244, kernel_size=(1, 1), stride=(1, 1), bias=False)\n",
              "        (1): BatchNorm2d(244, eps=1e-05, momentum=0.1, affine=True, track_running_stats=True)\n",
              "        (2): ReLU(inplace=True)\n",
              "        (3): Conv2d(244, 244, kernel_size=(3, 3), stride=(2, 2), padding=(1, 1), groups=244, bias=False)\n",
              "        (4): BatchNorm2d(244, eps=1e-05, momentum=0.1, affine=True, track_running_stats=True)\n",
              "        (5): Conv2d(244, 244, kernel_size=(1, 1), stride=(1, 1), bias=False)\n",
              "        (6): BatchNorm2d(244, eps=1e-05, momentum=0.1, affine=True, track_running_stats=True)\n",
              "        (7): ReLU(inplace=True)\n",
              "      )\n",
              "    )\n",
              "    (1): InvertedResidual(\n",
              "      (branch1): Sequential()\n",
              "      (branch2): Sequential(\n",
              "        (0): Conv2d(244, 244, kernel_size=(1, 1), stride=(1, 1), bias=False)\n",
              "        (1): BatchNorm2d(244, eps=1e-05, momentum=0.1, affine=True, track_running_stats=True)\n",
              "        (2): ReLU(inplace=True)\n",
              "        (3): Conv2d(244, 244, kernel_size=(3, 3), stride=(1, 1), padding=(1, 1), groups=244, bias=False)\n",
              "        (4): BatchNorm2d(244, eps=1e-05, momentum=0.1, affine=True, track_running_stats=True)\n",
              "        (5): Conv2d(244, 244, kernel_size=(1, 1), stride=(1, 1), bias=False)\n",
              "        (6): BatchNorm2d(244, eps=1e-05, momentum=0.1, affine=True, track_running_stats=True)\n",
              "        (7): ReLU(inplace=True)\n",
              "      )\n",
              "    )\n",
              "    (2): InvertedResidual(\n",
              "      (branch1): Sequential()\n",
              "      (branch2): Sequential(\n",
              "        (0): Conv2d(244, 244, kernel_size=(1, 1), stride=(1, 1), bias=False)\n",
              "        (1): BatchNorm2d(244, eps=1e-05, momentum=0.1, affine=True, track_running_stats=True)\n",
              "        (2): ReLU(inplace=True)\n",
              "        (3): Conv2d(244, 244, kernel_size=(3, 3), stride=(1, 1), padding=(1, 1), groups=244, bias=False)\n",
              "        (4): BatchNorm2d(244, eps=1e-05, momentum=0.1, affine=True, track_running_stats=True)\n",
              "        (5): Conv2d(244, 244, kernel_size=(1, 1), stride=(1, 1), bias=False)\n",
              "        (6): BatchNorm2d(244, eps=1e-05, momentum=0.1, affine=True, track_running_stats=True)\n",
              "        (7): ReLU(inplace=True)\n",
              "      )\n",
              "    )\n",
              "    (3): InvertedResidual(\n",
              "      (branch1): Sequential()\n",
              "      (branch2): Sequential(\n",
              "        (0): Conv2d(244, 244, kernel_size=(1, 1), stride=(1, 1), bias=False)\n",
              "        (1): BatchNorm2d(244, eps=1e-05, momentum=0.1, affine=True, track_running_stats=True)\n",
              "        (2): ReLU(inplace=True)\n",
              "        (3): Conv2d(244, 244, kernel_size=(3, 3), stride=(1, 1), padding=(1, 1), groups=244, bias=False)\n",
              "        (4): BatchNorm2d(244, eps=1e-05, momentum=0.1, affine=True, track_running_stats=True)\n",
              "        (5): Conv2d(244, 244, kernel_size=(1, 1), stride=(1, 1), bias=False)\n",
              "        (6): BatchNorm2d(244, eps=1e-05, momentum=0.1, affine=True, track_running_stats=True)\n",
              "        (7): ReLU(inplace=True)\n",
              "      )\n",
              "    )\n",
              "    (4): InvertedResidual(\n",
              "      (branch1): Sequential()\n",
              "      (branch2): Sequential(\n",
              "        (0): Conv2d(244, 244, kernel_size=(1, 1), stride=(1, 1), bias=False)\n",
              "        (1): BatchNorm2d(244, eps=1e-05, momentum=0.1, affine=True, track_running_stats=True)\n",
              "        (2): ReLU(inplace=True)\n",
              "        (3): Conv2d(244, 244, kernel_size=(3, 3), stride=(1, 1), padding=(1, 1), groups=244, bias=False)\n",
              "        (4): BatchNorm2d(244, eps=1e-05, momentum=0.1, affine=True, track_running_stats=True)\n",
              "        (5): Conv2d(244, 244, kernel_size=(1, 1), stride=(1, 1), bias=False)\n",
              "        (6): BatchNorm2d(244, eps=1e-05, momentum=0.1, affine=True, track_running_stats=True)\n",
              "        (7): ReLU(inplace=True)\n",
              "      )\n",
              "    )\n",
              "    (5): InvertedResidual(\n",
              "      (branch1): Sequential()\n",
              "      (branch2): Sequential(\n",
              "        (0): Conv2d(244, 244, kernel_size=(1, 1), stride=(1, 1), bias=False)\n",
              "        (1): BatchNorm2d(244, eps=1e-05, momentum=0.1, affine=True, track_running_stats=True)\n",
              "        (2): ReLU(inplace=True)\n",
              "        (3): Conv2d(244, 244, kernel_size=(3, 3), stride=(1, 1), padding=(1, 1), groups=244, bias=False)\n",
              "        (4): BatchNorm2d(244, eps=1e-05, momentum=0.1, affine=True, track_running_stats=True)\n",
              "        (5): Conv2d(244, 244, kernel_size=(1, 1), stride=(1, 1), bias=False)\n",
              "        (6): BatchNorm2d(244, eps=1e-05, momentum=0.1, affine=True, track_running_stats=True)\n",
              "        (7): ReLU(inplace=True)\n",
              "      )\n",
              "    )\n",
              "    (6): InvertedResidual(\n",
              "      (branch1): Sequential()\n",
              "      (branch2): Sequential(\n",
              "        (0): Conv2d(244, 244, kernel_size=(1, 1), stride=(1, 1), bias=False)\n",
              "        (1): BatchNorm2d(244, eps=1e-05, momentum=0.1, affine=True, track_running_stats=True)\n",
              "        (2): ReLU(inplace=True)\n",
              "        (3): Conv2d(244, 244, kernel_size=(3, 3), stride=(1, 1), padding=(1, 1), groups=244, bias=False)\n",
              "        (4): BatchNorm2d(244, eps=1e-05, momentum=0.1, affine=True, track_running_stats=True)\n",
              "        (5): Conv2d(244, 244, kernel_size=(1, 1), stride=(1, 1), bias=False)\n",
              "        (6): BatchNorm2d(244, eps=1e-05, momentum=0.1, affine=True, track_running_stats=True)\n",
              "        (7): ReLU(inplace=True)\n",
              "      )\n",
              "    )\n",
              "    (7): InvertedResidual(\n",
              "      (branch1): Sequential()\n",
              "      (branch2): Sequential(\n",
              "        (0): Conv2d(244, 244, kernel_size=(1, 1), stride=(1, 1), bias=False)\n",
              "        (1): BatchNorm2d(244, eps=1e-05, momentum=0.1, affine=True, track_running_stats=True)\n",
              "        (2): ReLU(inplace=True)\n",
              "        (3): Conv2d(244, 244, kernel_size=(3, 3), stride=(1, 1), padding=(1, 1), groups=244, bias=False)\n",
              "        (4): BatchNorm2d(244, eps=1e-05, momentum=0.1, affine=True, track_running_stats=True)\n",
              "        (5): Conv2d(244, 244, kernel_size=(1, 1), stride=(1, 1), bias=False)\n",
              "        (6): BatchNorm2d(244, eps=1e-05, momentum=0.1, affine=True, track_running_stats=True)\n",
              "        (7): ReLU(inplace=True)\n",
              "      )\n",
              "    )\n",
              "  )\n",
              "  (stage4): Sequential(\n",
              "    (0): InvertedResidual(\n",
              "      (branch1): Sequential(\n",
              "        (0): Conv2d(488, 488, kernel_size=(3, 3), stride=(2, 2), padding=(1, 1), groups=488, bias=False)\n",
              "        (1): BatchNorm2d(488, eps=1e-05, momentum=0.1, affine=True, track_running_stats=True)\n",
              "        (2): Conv2d(488, 488, kernel_size=(1, 1), stride=(1, 1), bias=False)\n",
              "        (3): BatchNorm2d(488, eps=1e-05, momentum=0.1, affine=True, track_running_stats=True)\n",
              "        (4): ReLU(inplace=True)\n",
              "      )\n",
              "      (branch2): Sequential(\n",
              "        (0): Conv2d(488, 488, kernel_size=(1, 1), stride=(1, 1), bias=False)\n",
              "        (1): BatchNorm2d(488, eps=1e-05, momentum=0.1, affine=True, track_running_stats=True)\n",
              "        (2): ReLU(inplace=True)\n",
              "        (3): Conv2d(488, 488, kernel_size=(3, 3), stride=(2, 2), padding=(1, 1), groups=488, bias=False)\n",
              "        (4): BatchNorm2d(488, eps=1e-05, momentum=0.1, affine=True, track_running_stats=True)\n",
              "        (5): Conv2d(488, 488, kernel_size=(1, 1), stride=(1, 1), bias=False)\n",
              "        (6): BatchNorm2d(488, eps=1e-05, momentum=0.1, affine=True, track_running_stats=True)\n",
              "        (7): ReLU(inplace=True)\n",
              "      )\n",
              "    )\n",
              "    (1): InvertedResidual(\n",
              "      (branch1): Sequential()\n",
              "      (branch2): Sequential(\n",
              "        (0): Conv2d(488, 488, kernel_size=(1, 1), stride=(1, 1), bias=False)\n",
              "        (1): BatchNorm2d(488, eps=1e-05, momentum=0.1, affine=True, track_running_stats=True)\n",
              "        (2): ReLU(inplace=True)\n",
              "        (3): Conv2d(488, 488, kernel_size=(3, 3), stride=(1, 1), padding=(1, 1), groups=488, bias=False)\n",
              "        (4): BatchNorm2d(488, eps=1e-05, momentum=0.1, affine=True, track_running_stats=True)\n",
              "        (5): Conv2d(488, 488, kernel_size=(1, 1), stride=(1, 1), bias=False)\n",
              "        (6): BatchNorm2d(488, eps=1e-05, momentum=0.1, affine=True, track_running_stats=True)\n",
              "        (7): ReLU(inplace=True)\n",
              "      )\n",
              "    )\n",
              "    (2): InvertedResidual(\n",
              "      (branch1): Sequential()\n",
              "      (branch2): Sequential(\n",
              "        (0): Conv2d(488, 488, kernel_size=(1, 1), stride=(1, 1), bias=False)\n",
              "        (1): BatchNorm2d(488, eps=1e-05, momentum=0.1, affine=True, track_running_stats=True)\n",
              "        (2): ReLU(inplace=True)\n",
              "        (3): Conv2d(488, 488, kernel_size=(3, 3), stride=(1, 1), padding=(1, 1), groups=488, bias=False)\n",
              "        (4): BatchNorm2d(488, eps=1e-05, momentum=0.1, affine=True, track_running_stats=True)\n",
              "        (5): Conv2d(488, 488, kernel_size=(1, 1), stride=(1, 1), bias=False)\n",
              "        (6): BatchNorm2d(488, eps=1e-05, momentum=0.1, affine=True, track_running_stats=True)\n",
              "        (7): ReLU(inplace=True)\n",
              "      )\n",
              "    )\n",
              "    (3): InvertedResidual(\n",
              "      (branch1): Sequential()\n",
              "      (branch2): Sequential(\n",
              "        (0): Conv2d(488, 488, kernel_size=(1, 1), stride=(1, 1), bias=False)\n",
              "        (1): BatchNorm2d(488, eps=1e-05, momentum=0.1, affine=True, track_running_stats=True)\n",
              "        (2): ReLU(inplace=True)\n",
              "        (3): Conv2d(488, 488, kernel_size=(3, 3), stride=(1, 1), padding=(1, 1), groups=488, bias=False)\n",
              "        (4): BatchNorm2d(488, eps=1e-05, momentum=0.1, affine=True, track_running_stats=True)\n",
              "        (5): Conv2d(488, 488, kernel_size=(1, 1), stride=(1, 1), bias=False)\n",
              "        (6): BatchNorm2d(488, eps=1e-05, momentum=0.1, affine=True, track_running_stats=True)\n",
              "        (7): ReLU(inplace=True)\n",
              "      )\n",
              "    )\n",
              "  )\n",
              "  (conv5): Sequential(\n",
              "    (0): Conv2d(976, 2048, kernel_size=(1, 1), stride=(1, 1), bias=False)\n",
              "    (1): BatchNorm2d(2048, eps=1e-05, momentum=0.1, affine=True, track_running_stats=True)\n",
              "    (2): ReLU(inplace=True)\n",
              "  )\n",
              "  (fc): Linear(in_features=2048, out_features=20, bias=True)\n",
              ")"
            ]
          },
          "metadata": {},
          "execution_count": 22
        }
      ]
    },
    {
      "cell_type": "markdown",
      "source": [
        "Algumas informações relacionados a GPU adquirida"
      ],
      "metadata": {
        "id": "MWhbiv4NjF58"
      }
    },
    {
      "cell_type": "code",
      "source": [
        "if torch.cuda.is_available():\n",
        "  torch.cuda.get_device_properties(0)"
      ],
      "metadata": {
        "id": "yLfN638ijF58"
      },
      "execution_count": null,
      "outputs": []
    },
    {
      "cell_type": "markdown",
      "source": [
        "Establecimento de parâmetros para o treino"
      ],
      "metadata": {
        "id": "rLNgjAR_jF59"
      }
    },
    {
      "cell_type": "code",
      "source": [
        "loss_train = []\n",
        "loss_eval  = []\n",
        "patience_time = 15\n",
        "criterion = nn.CrossEntropyLoss()\n",
        "optS = optim.SGD(shuffleNet.parameters(),lr=0.001)\n",
        "# regnetX.to(device)\n"
      ],
      "metadata": {
        "id": "fmJJfeXWjF59"
      },
      "execution_count": null,
      "outputs": []
    },
    {
      "cell_type": "markdown",
      "source": [
        "Treinamento"
      ],
      "metadata": {
        "id": "nLCuP_iFjF59"
      }
    },
    {
      "cell_type": "code",
      "source": [
        "epochs = 100\n",
        "\n",
        "stop = False\n",
        "epoch = 0\n",
        "lowest_loss_eval = 10000\n",
        "last_best_result = 0\n",
        "while (not stop):\n",
        "    #wandb.watch(shuffleNet)\n",
        "    shuffleNet.train()\n",
        "    lloss = []\n",
        "    for x,y in dl_train:\n",
        "        x = x.to(device)\n",
        "        y = y.to(device)\n",
        "        pred = shuffleNet(x)\n",
        "        closs = criterion(pred,y)\n",
        "        closs.backward()\n",
        "        optS.step()\n",
        "        optS.zero_grad()\n",
        "        lloss.append(closs.item())\n",
        "        #print(closs.item())\n",
        "    loss_train.append(np.mean(lloss))\n",
        "    lloss = []\n",
        "    shuffleNet.eval()\n",
        "    lres = []\n",
        "    ytrue = []\n",
        "    with torch.no_grad():\n",
        "        for data,y in dl_valid:\n",
        "            data = data.to(device)\n",
        "            pred = shuffleNet(data)\n",
        "            closs = criterion(pred.cpu(),y)\n",
        "            lloss.append(closs.item())\n",
        "            res  = pred.argmax(dim=1).cpu().tolist()\n",
        "            lres += res\n",
        "            ytrue += y\n",
        "    avg_loss_eval = np.mean(lloss)\n",
        "    loss_eval.append(avg_loss_eval)\n",
        "    #wandb.log({\"loss_eval\": avg_loss_eval,\"loss_train\":loss_train[-1]})\n",
        "    if avg_loss_eval < lowest_loss_eval:\n",
        "        lowest_loss_eval = avg_loss_eval \n",
        "        last_best_result = 0\n",
        "        print(\"Best shuffleNet found! saving...\")\n",
        "        actual_state = {'optSim':optS.state_dict(),'shuffleNet':shuffleNet.state_dict(),'epoch':epoch,'loss_train':loss_train,'loss_eval':loss_eval}\n",
        "        torch.save(actual_state,'best_shuffleNet.pth')\n",
        "    last_best_result += 1\n",
        "    if last_best_result > patience_time:\n",
        "        stop = True\n",
        "    print(\"epoch %d loss_train %4.3f loss_eval %4.3f last_best %d\"%(epoch,loss_train[-1],loss_eval[-1],last_best_result))\n",
        "    epoch += 1"
      ],
      "metadata": {
        "colab": {
          "base_uri": "https://localhost:8080/"
        },
        "outputId": "cfae1d27-428e-40bd-852c-e21cefd13ca8",
        "id": "dTia7Bz4jF5-"
      },
      "execution_count": null,
      "outputs": [
        {
          "output_type": "stream",
          "name": "stdout",
          "text": [
            "Best shuffleNet found! saving...\n",
            "epoch 0 loss_train 2.948 loss_eval 5.854 last_best 1\n",
            "Best shuffleNet found! saving...\n",
            "epoch 1 loss_train 2.900 loss_eval 3.749 last_best 1\n",
            "epoch 2 loss_train 2.849 loss_eval 6.610 last_best 2\n",
            "epoch 3 loss_train 2.802 loss_eval 8.109 last_best 3\n"
          ]
        }
      ]
    },
    {
      "cell_type": "markdown",
      "source": [
        "# Metricas"
      ],
      "metadata": {
        "id": "P7P5N1oghiUv"
      }
    },
    {
      "cell_type": "code",
      "source": [
        "classes = ['American Black Duck',\n",
        "                'Brazillian Teal Duck',\n",
        "                'Bufflehead Duck',\n",
        "                'Canvasback Duck',\n",
        "                'Comb Duck',\n",
        "                'Eurasian Wigeon Duck',\n",
        "                'Gadwall Duck',\n",
        "                'Goldeneye Duck',\n",
        "                'Greater Scaup Duck',\n",
        "                'Harlequin Duck',\n",
        "                'Mallard Duck',\n",
        "                'Mandarin Duck',\n",
        "                'Muscovy Duck',\n",
        "                'Northern Shoveler Duck',\n",
        "                'Pink Eared Duck',\n",
        "                'Red Bested Merganser Duck',\n",
        "                'Redhead Duck',\n",
        "                'Ruddy Duck',\n",
        "                'Torrent Duck',\n",
        "                'Wood Duck'\n",
        "]"
      ],
      "metadata": {
        "id": "3jWAEBtnRJja"
      },
      "execution_count": null,
      "outputs": []
    },
    {
      "cell_type": "markdown",
      "source": [
        "Criando um gráfico para ver a ```loss``` dos três modelos."
      ],
      "metadata": {
        "id": "vOvrefcfgaWr"
      }
    },
    {
      "cell_type": "code",
      "source": [
        "figure, axis = plt.subplots(1,3, figsize=(18,5))"
      ],
      "metadata": {
        "id": "-tC6XgfVXunQ"
      },
      "execution_count": null,
      "outputs": []
    },
    {
      "cell_type": "code",
      "source": [
        "recover = torch.load(directory + '/best_regnetX.pth',map_location=torch.device(device))\n",
        "optR.load_state_dict(recover['optim'])\n",
        "regnetX.load_state_dict(recover['regnetX'])\n",
        "loss_train = recover['loss_train']\n",
        "loss_eval = recover['loss_eval']\n",
        "epoch = recover['epoch']"
      ],
      "metadata": {
        "id": "D8VmLdeNlFNT"
      },
      "execution_count": null,
      "outputs": []
    },
    {
      "cell_type": "code",
      "source": [
        "regnetX.eval()\n",
        "torch.save(regnetX,'model.pth')"
      ],
      "metadata": {
        "id": "LWUHQvAzlWT3"
      },
      "execution_count": null,
      "outputs": []
    },
    {
      "cell_type": "code",
      "source": [
        "axis[0].set_title(\"regnetX\")\n",
        "axis[0].plot(loss_train[1:], label='Train')\n",
        "axis[0].plot(loss_eval[1:], label='Eval')\n",
        "axis[0].legend()\n",
        "axis[0].set_xlabel('Epochs')\n",
        "axis[0].set_ylabel('Loss')\n",
        "# axis[0].show()"
      ],
      "metadata": {
        "colab": {
          "base_uri": "https://localhost:8080/"
        },
        "outputId": "c1aeba3a-1422-42cd-a816-1666a2b5379a",
        "id": "4KQRptDL6_pL"
      },
      "execution_count": null,
      "outputs": [
        {
          "output_type": "execute_result",
          "data": {
            "text/plain": [
              "Text(3.200000000000017, 0.5, 'Loss')"
            ]
          },
          "metadata": {},
          "execution_count": 125
        }
      ]
    },
    {
      "cell_type": "code",
      "source": [
        "recover = torch.load(directory + '/best_efficientNet.pth', map_location=torch.device(device))\n",
        "optE.load_state_dict(recover['optim'])\n",
        "efficientNet.load_state_dict(recover['efficientNet'])\n",
        "loss_train = recover['loss_train']\n",
        "loss_eval = recover['loss_eval']\n",
        "epoch = recover['epoch']"
      ],
      "metadata": {
        "id": "BcMkXJdC53WT"
      },
      "execution_count": null,
      "outputs": []
    },
    {
      "cell_type": "code",
      "source": [
        "axis[1].set_title('efficientNet')\n",
        "axis[1].plot(loss_train[1:], label='Train')\n",
        "axis[1].plot(loss_eval[1:], label='Eval')\n",
        "axis[1].legend()\n",
        "axis[1].set_xlabel('Epochs')\n",
        "axis[1].set_ylabel('Loss')"
      ],
      "metadata": {
        "colab": {
          "base_uri": "https://localhost:8080/"
        },
        "outputId": "72534f3a-da25-493c-96ab-2e1a33245968",
        "id": "LDzLbHnt6_KJ"
      },
      "execution_count": null,
      "outputs": [
        {
          "output_type": "execute_result",
          "data": {
            "text/plain": [
              "Text(357.6941176470589, 0.5, 'Loss')"
            ]
          },
          "metadata": {},
          "execution_count": 127
        }
      ]
    },
    {
      "cell_type": "code",
      "source": [
        "recover = torch.load(directory + '/best_shuffleNet.pth', map_location=torch.device(device))\n",
        "optS.load_state_dict(recover['optim'])\n",
        "shuffleNet.load_state_dict(recover['shuffleNet'])\n",
        "loss_train = recover['loss_train']\n",
        "loss_eval = recover['loss_eval']\n",
        "epoch = recover['epoch']"
      ],
      "metadata": {
        "id": "21Or0WRq4Vle"
      },
      "execution_count": null,
      "outputs": []
    },
    {
      "cell_type": "code",
      "source": [
        "axis[2].set_title(\"shuffleNet\")\n",
        "axis[2].plot(loss_train[1:], label='Train')\n",
        "axis[2].plot(loss_eval[1:], label='Eval')\n",
        "axis[2].legend()\n",
        "axis[2].set_xlabel('Epochs')\n",
        "axis[2].set_ylabel('Loss')"
      ],
      "metadata": {
        "colab": {
          "base_uri": "https://localhost:8080/"
        },
        "id": "rgHFN7vnxZH2",
        "outputId": "60bd0b42-980b-4865-854d-e201b134495c"
      },
      "execution_count": null,
      "outputs": [
        {
          "output_type": "execute_result",
          "data": {
            "text/plain": [
              "Text(712.1882352941178, 0.5, 'Loss')"
            ]
          },
          "metadata": {},
          "execution_count": 129
        }
      ]
    },
    {
      "cell_type": "code",
      "source": [
        "#@title Gráfico de loss de todos os modelos\n",
        "\n",
        "figure\n"
      ],
      "metadata": {
        "id": "QKixGNpDxkvc",
        "colab": {
          "base_uri": "https://localhost:8080/",
          "height": 350
        },
        "cellView": "form",
        "outputId": "9bab515a-8bdf-47c5-a125-06f0ef0ede0f"
      },
      "execution_count": null,
      "outputs": [
        {
          "output_type": "execute_result",
          "data": {
            "text/plain": [
              "<Figure size 1296x360 with 3 Axes>"
            ],
            "image/png": "[encoded data removed]"
          },
          "metadata": {},
          "execution_count": 130
        }
      ]
    },
    {
      "cell_type": "markdown",
      "source": [
        "## Métricas da RegNetX"
      ],
      "metadata": {
        "id": "EHjpZfg_nMXY"
      }
    },
    {
      "cell_type": "code",
      "source": [
        "regnetX.eval()\n",
        "lres = []\n",
        "ytrue = []\n",
        "with torch.no_grad():\n",
        "    for data,target in dl_test:\n",
        "        data = data.to(device)\n",
        "        pred = regnetX(data)\n",
        "        res  = pred.argmax(dim=1).cpu().tolist()\n",
        "        lres += res\n",
        "        ytrue += target\n"
      ],
      "metadata": {
        "id": "ysZmJZv0xn1l"
      },
      "execution_count": null,
      "outputs": []
    },
    {
      "cell_type": "code",
      "source": [
        "print('                       regnetX Metrics')\n",
        "print()\n",
        "print(metrics.classification_report(ytrue, lres))\n",
        "print(\"Accuracy score  = \", metrics.accuracy_score(ytrue,lres))\n",
        "print(\"Precision score = \", metrics.precision_score(ytrue,lres,average='weighted'))\n",
        "print(\"Recall score    = \", metrics.recall_score(ytrue,lres,average='weighted'))\n",
        "print()\n",
        "confusionmatrix = metrics.confusion_matrix(ytrue, lres)\n",
        "confusion = metrics.ConfusionMatrixDisplay(confusionmatrix, display_labels=classes)\n",
        "confusion.plot(xticks_rotation='vertical')"
      ],
      "metadata": {
        "colab": {
          "base_uri": "https://localhost:8080/",
          "height": 1000
        },
        "id": "GcK4zKM1tw1I",
        "outputId": "60ae08cf-b953-4c5c-9b94-bc3be951bf95"
      },
      "execution_count": null,
      "outputs": [
        {
          "output_type": "stream",
          "name": "stdout",
          "text": [
            "                       regnetX Metrics\n",
            "\n",
            "              precision    recall  f1-score   support\n",
            "\n",
            "           0       1.00      1.00      1.00        15\n",
            "           1       1.00      0.87      0.93        15\n",
            "           2       1.00      0.93      0.97        15\n",
            "           3       0.93      0.87      0.90        15\n",
            "           4       1.00      1.00      1.00        15\n",
            "           5       1.00      1.00      1.00        15\n",
            "           6       0.94      1.00      0.97        15\n",
            "           7       0.93      0.93      0.93        15\n",
            "           8       0.75      1.00      0.86        15\n",
            "           9       1.00      1.00      1.00        15\n",
            "          10       0.88      1.00      0.94        15\n",
            "          11       1.00      1.00      1.00        15\n",
            "          12       1.00      0.87      0.93        15\n",
            "          13       0.88      1.00      0.94        15\n",
            "          14       1.00      1.00      1.00        15\n",
            "          15       1.00      0.93      0.97        15\n",
            "          16       0.92      0.80      0.86        15\n",
            "          17       1.00      1.00      1.00        15\n",
            "          18       1.00      0.93      0.97        15\n",
            "          19       1.00      1.00      1.00        15\n",
            "\n",
            "    accuracy                           0.96       300\n",
            "   macro avg       0.96      0.96      0.96       300\n",
            "weighted avg       0.96      0.96      0.96       300\n",
            "\n",
            "Accuracy score  =  0.9566666666666667\n",
            "Precision score =  0.9618593783667313\n",
            "Recall score    =  0.9566666666666667\n",
            "\n"
          ]
        },
        {
          "output_type": "execute_result",
          "data": {
            "text/plain": [
              "<sklearn.metrics._plot.confusion_matrix.ConfusionMatrixDisplay at 0x7f525c793b10>"
            ]
          },
          "metadata": {},
          "execution_count": 132
        },
        {
          "output_type": "display_data",
          "data": {
            "text/plain": [
              "<Figure size 432x288 with 2 Axes>"
            ],
            "image/png": "[encoded data removed]"
          },
          "metadata": {
            "needs_background": "light"
          }
        }
      ]
    },
    {
      "cell_type": "markdown",
      "source": [
        "## Métricas da EfficientNet"
      ],
      "metadata": {
        "id": "cDUbWCNnnlzZ"
      }
    },
    {
      "cell_type": "code",
      "source": [
        "efficientNet.eval()\n",
        "lres = []\n",
        "ytrue = []\n",
        "with torch.no_grad():\n",
        "    for data,target in dl_test:\n",
        "        data = data.to(device)\n",
        "        pred = efficientNet(data)\n",
        "        res  = pred.argmax(dim=1).cpu().tolist()\n",
        "        lres += res\n",
        "        ytrue += target\n"
      ],
      "metadata": {
        "id": "yUBWSE9hnTdt"
      },
      "execution_count": null,
      "outputs": []
    },
    {
      "cell_type": "code",
      "source": [
        "print('                    efficientNet Metrics')\n",
        "print()\n",
        "print(metrics.classification_report(ytrue, lres))\n",
        "print(\"Accuracy score  = \", metrics.accuracy_score(ytrue,lres))\n",
        "print(\"Precision score = \", metrics.precision_score(ytrue,lres,average='weighted'))\n",
        "print(\"Recall score    = \", metrics.recall_score(ytrue,lres,average='weighted'))\n",
        "print()\n",
        "confusionmatrix = metrics.confusion_matrix(ytrue, lres)\n",
        "confusion = metrics.ConfusionMatrixDisplay(confusionmatrix, display_labels=classes)\n",
        "confusion.plot(xticks_rotation='vertical')"
      ],
      "metadata": {
        "colab": {
          "base_uri": "https://localhost:8080/",
          "height": 680
        },
        "outputId": "b14ef78e-b22a-4e75-fa2d-e40482746644",
        "id": "k0-X5HeonTdx"
      },
      "execution_count": null,
      "outputs": [
        {
          "output_type": "stream",
          "name": "stdout",
          "text": [
            "                    efficientNet Metrics\n",
            "\n",
            "              precision    recall  f1-score   support\n",
            "\n",
            "           0       0.93      0.93      0.93        15\n",
            "           1       1.00      1.00      1.00        15\n",
            "           2       1.00      0.93      0.97        15\n",
            "           3       0.93      0.87      0.90        15\n",
            "           4       1.00      1.00      1.00        15\n",
            "           5       0.83      1.00      0.91        15\n",
            "           6       0.93      0.93      0.93        15\n",
            "           7       1.00      0.93      0.97        15\n",
            "           8       0.72      0.87      0.79        15\n",
            "           9       0.94      1.00      0.97        15\n",
            "          10       0.94      1.00      0.97        15\n",
            "          11       1.00      1.00      1.00        15\n",
            "          12       1.00      0.93      0.97        15\n",
            "          13       0.93      0.93      0.93        15\n",
            "          14       1.00      1.00      1.00        15\n",
            "          15       0.93      0.93      0.93        15\n",
            "          16       0.85      0.73      0.79        15\n",
            "          17       1.00      0.87      0.93        15\n",
            "          18       0.94      1.00      0.97        15\n",
            "          19       1.00      0.93      0.97        15\n",
            "\n",
            "    accuracy                           0.94       300\n",
            "   macro avg       0.94      0.94      0.94       300\n",
            "weighted avg       0.94      0.94      0.94       300\n",
            "\n",
            "Accuracy score  =  0.94\n",
            "Precision score =  0.9438057081807081\n",
            "Recall score    =  0.94\n",
            "\n"
          ]
        },
        {
          "output_type": "execute_result",
          "data": {
            "text/plain": [
              "<sklearn.metrics._plot.confusion_matrix.ConfusionMatrixDisplay at 0x7f525de0a710>"
            ]
          },
          "metadata": {},
          "execution_count": 134
        },
        {
          "output_type": "display_data",
          "data": {
            "text/plain": [
              "<Figure size 432x288 with 2 Axes>"
            ],
            "image/png": "[encoded data removed]"
          },
          "metadata": {
            "needs_background": "light"
          }
        }
      ]
    },
    {
      "cell_type": "markdown",
      "source": [
        "## Métricas da ShuffleNet"
      ],
      "metadata": {
        "id": "5v-WXvHWncgv"
      }
    },
    {
      "cell_type": "code",
      "source": [
        "shuffleNet.eval()\n",
        "lres = []\n",
        "ytrue = []\n",
        "with torch.no_grad():\n",
        "    for data,target in dl_test:\n",
        "        data = data.to(device)\n",
        "        pred = shuffleNet(data)\n",
        "        res  = pred.argmax(dim=1).cpu().tolist()\n",
        "        lres += res\n",
        "        ytrue += target\n"
      ],
      "metadata": {
        "id": "qKmCNOzNnbXR"
      },
      "execution_count": null,
      "outputs": []
    },
    {
      "cell_type": "code",
      "source": [
        "print('                    shuffleNet Metrics')\n",
        "print()\n",
        "print(metrics.classification_report(ytrue, lres))\n",
        "print(\"Accuracy score  = \", metrics.accuracy_score(ytrue,lres))\n",
        "print(\"Precision score = \", metrics.precision_score(ytrue,lres,average='weighted'))\n",
        "print(\"Recall score    = \", metrics.recall_score(ytrue,lres,average='weighted'))\n",
        "print()\n",
        "confusionmatrix = metrics.confusion_matrix(ytrue, lres)\n",
        "confusion = metrics.ConfusionMatrixDisplay(confusionmatrix, display_labels=classes)\n",
        "confusion.plot(xticks_rotation='vertical')"
      ],
      "metadata": {
        "colab": {
          "base_uri": "https://localhost:8080/",
          "height": 1000
        },
        "outputId": "d1a82e27-174b-4137-8708-267dad429c73",
        "id": "ehucLRODnbXU"
      },
      "execution_count": null,
      "outputs": [
        {
          "output_type": "stream",
          "name": "stdout",
          "text": [
            "                    shuffleNet Metrics\n",
            "\n",
            "              precision    recall  f1-score   support\n",
            "\n",
            "           0       0.78      0.93      0.85        15\n",
            "           1       0.87      0.87      0.87        15\n",
            "           2       1.00      0.93      0.97        15\n",
            "           3       0.76      0.87      0.81        15\n",
            "           4       0.94      1.00      0.97        15\n",
            "           5       1.00      0.87      0.93        15\n",
            "           6       0.88      0.93      0.90        15\n",
            "           7       1.00      0.93      0.97        15\n",
            "           8       0.82      0.93      0.87        15\n",
            "           9       1.00      0.93      0.97        15\n",
            "          10       0.94      1.00      0.97        15\n",
            "          11       1.00      1.00      1.00        15\n",
            "          12       1.00      0.93      0.97        15\n",
            "          13       0.88      0.93      0.90        15\n",
            "          14       0.94      1.00      0.97        15\n",
            "          15       0.88      0.93      0.90        15\n",
            "          16       1.00      0.67      0.80        15\n",
            "          17       0.93      0.93      0.93        15\n",
            "          18       1.00      0.93      0.97        15\n",
            "          19       1.00      0.93      0.97        15\n",
            "\n",
            "    accuracy                           0.92       300\n",
            "   macro avg       0.93      0.92      0.92       300\n",
            "weighted avg       0.93      0.92      0.92       300\n",
            "\n",
            "Accuracy score  =  0.9233333333333333\n",
            "Precision score =  0.9301756535947713\n",
            "Recall score    =  0.9233333333333333\n",
            "\n"
          ]
        },
        {
          "output_type": "execute_result",
          "data": {
            "text/plain": [
              "<sklearn.metrics._plot.confusion_matrix.ConfusionMatrixDisplay at 0x7f5257a3e7d0>"
            ]
          },
          "metadata": {},
          "execution_count": 136
        },
        {
          "output_type": "display_data",
          "data": {
            "text/plain": [
              "<Figure size 432x288 with 2 Axes>"
            ],
            "image/png": "[encoded data removed]"
          },
          "metadata": {
            "needs_background": "light"
          }
        }
      ]
    },
    {
      "cell_type": "markdown",
      "source": [
        "# Teste"
      ],
      "metadata": {
        "id": "UCb-SETnnzyE"
      }
    },
    {
      "cell_type": "markdown",
      "source": [],
      "metadata": {
        "id": "UF_5AgYrnzkf"
      }
    },
    {
      "cell_type": "code",
      "source": [
        "img = image_loader('/content/drive/MyDrive/CNN/mandarin-duck/4316851672_a2611135f2_n.jpg')"
      ],
      "metadata": {
        "id": "mygUug7ZzEw_"
      },
      "execution_count": null,
      "outputs": []
    },
    {
      "cell_type": "code",
      "source": [
        "timg = transformEfficientNet(img).view(1,3,288,288).to(device)"
      ],
      "metadata": {
        "id": "oKZUeFxDzEre"
      },
      "execution_count": null,
      "outputs": []
    },
    {
      "cell_type": "code",
      "source": [
        "pred = efficientNet(timg)\n",
        "res  = pred.argmax(dim=1).cpu().tolist()\n",
        "print(classes[res[0]])\n",
        "print(res)\n",
        "print(pred)"
      ],
      "metadata": {
        "colab": {
          "base_uri": "https://localhost:8080/"
        },
        "id": "cRnOjjI6zhPC",
        "outputId": "554d2318-69d5-4cd2-f215-d35f23d4d4c5"
      },
      "execution_count": null,
      "outputs": [
        {
          "output_type": "stream",
          "name": "stdout",
          "text": [
            "mandarin-duck\n",
            "[11]\n",
            "tensor([[-0.5127, -0.5909,  0.5695, -0.7471, -1.5679, -0.4365, -1.1592, -1.6691,\n",
            "         -1.4893,  0.9690,  0.3301,  7.7138, -0.9050,  0.4874, -0.3823, -1.8318,\n",
            "          0.4052, -0.7046,  1.0753,  0.3225]], device='cuda:0',\n",
            "       grad_fn=<AddmmBackward0>)\n"
          ]
        }
      ]
    }
  ]
}